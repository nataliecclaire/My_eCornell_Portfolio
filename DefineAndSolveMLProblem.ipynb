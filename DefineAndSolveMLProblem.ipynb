{
 "cells": [
  {
   "cell_type": "markdown",
   "metadata": {},
   "source": [
    "# Final Project for BTT"
   ]
  },
  {
   "cell_type": "code",
   "execution_count": 2,
   "metadata": {},
   "outputs": [],
   "source": [
    "import pandas as pd\n",
    "import numpy as np\n",
    "import os \n",
    "import matplotlib.pyplot as plt\n",
    "import seaborn as sns"
   ]
  },
  {
   "cell_type": "code",
   "execution_count": 3,
   "metadata": {},
   "outputs": [
    {
     "data": {
      "text/html": [
       "<div>\n",
       "<style scoped>\n",
       "    .dataframe tbody tr th:only-of-type {\n",
       "        vertical-align: middle;\n",
       "    }\n",
       "\n",
       "    .dataframe tbody tr th {\n",
       "        vertical-align: top;\n",
       "    }\n",
       "\n",
       "    .dataframe thead th {\n",
       "        text-align: right;\n",
       "    }\n",
       "</style>\n",
       "<table border=\"1\" class=\"dataframe\">\n",
       "  <thead>\n",
       "    <tr style=\"text-align: right;\">\n",
       "      <th></th>\n",
       "      <th>age</th>\n",
       "      <th>job</th>\n",
       "      <th>marital</th>\n",
       "      <th>education</th>\n",
       "      <th>default</th>\n",
       "      <th>housing</th>\n",
       "      <th>loan</th>\n",
       "      <th>contact</th>\n",
       "      <th>month</th>\n",
       "      <th>day_of_week</th>\n",
       "      <th>...</th>\n",
       "      <th>campaign</th>\n",
       "      <th>pdays</th>\n",
       "      <th>previous</th>\n",
       "      <th>poutcome</th>\n",
       "      <th>emp.var.rate</th>\n",
       "      <th>cons.price.idx</th>\n",
       "      <th>cons.conf.idx</th>\n",
       "      <th>euribor3m</th>\n",
       "      <th>nr.employed</th>\n",
       "      <th>y</th>\n",
       "    </tr>\n",
       "  </thead>\n",
       "  <tbody>\n",
       "    <tr>\n",
       "      <th>0</th>\n",
       "      <td>56</td>\n",
       "      <td>housemaid</td>\n",
       "      <td>married</td>\n",
       "      <td>basic.4y</td>\n",
       "      <td>no</td>\n",
       "      <td>no</td>\n",
       "      <td>no</td>\n",
       "      <td>telephone</td>\n",
       "      <td>may</td>\n",
       "      <td>mon</td>\n",
       "      <td>...</td>\n",
       "      <td>1</td>\n",
       "      <td>999</td>\n",
       "      <td>0</td>\n",
       "      <td>nonexistent</td>\n",
       "      <td>1.1</td>\n",
       "      <td>93.994</td>\n",
       "      <td>-36.4</td>\n",
       "      <td>4.857</td>\n",
       "      <td>5191.0</td>\n",
       "      <td>no</td>\n",
       "    </tr>\n",
       "    <tr>\n",
       "      <th>1</th>\n",
       "      <td>57</td>\n",
       "      <td>services</td>\n",
       "      <td>married</td>\n",
       "      <td>high.school</td>\n",
       "      <td>unknown</td>\n",
       "      <td>no</td>\n",
       "      <td>no</td>\n",
       "      <td>telephone</td>\n",
       "      <td>may</td>\n",
       "      <td>mon</td>\n",
       "      <td>...</td>\n",
       "      <td>1</td>\n",
       "      <td>999</td>\n",
       "      <td>0</td>\n",
       "      <td>nonexistent</td>\n",
       "      <td>1.1</td>\n",
       "      <td>93.994</td>\n",
       "      <td>-36.4</td>\n",
       "      <td>4.857</td>\n",
       "      <td>5191.0</td>\n",
       "      <td>no</td>\n",
       "    </tr>\n",
       "    <tr>\n",
       "      <th>2</th>\n",
       "      <td>37</td>\n",
       "      <td>services</td>\n",
       "      <td>married</td>\n",
       "      <td>high.school</td>\n",
       "      <td>no</td>\n",
       "      <td>yes</td>\n",
       "      <td>no</td>\n",
       "      <td>telephone</td>\n",
       "      <td>may</td>\n",
       "      <td>mon</td>\n",
       "      <td>...</td>\n",
       "      <td>1</td>\n",
       "      <td>999</td>\n",
       "      <td>0</td>\n",
       "      <td>nonexistent</td>\n",
       "      <td>1.1</td>\n",
       "      <td>93.994</td>\n",
       "      <td>-36.4</td>\n",
       "      <td>4.857</td>\n",
       "      <td>5191.0</td>\n",
       "      <td>no</td>\n",
       "    </tr>\n",
       "    <tr>\n",
       "      <th>3</th>\n",
       "      <td>40</td>\n",
       "      <td>admin.</td>\n",
       "      <td>married</td>\n",
       "      <td>basic.6y</td>\n",
       "      <td>no</td>\n",
       "      <td>no</td>\n",
       "      <td>no</td>\n",
       "      <td>telephone</td>\n",
       "      <td>may</td>\n",
       "      <td>mon</td>\n",
       "      <td>...</td>\n",
       "      <td>1</td>\n",
       "      <td>999</td>\n",
       "      <td>0</td>\n",
       "      <td>nonexistent</td>\n",
       "      <td>1.1</td>\n",
       "      <td>93.994</td>\n",
       "      <td>-36.4</td>\n",
       "      <td>4.857</td>\n",
       "      <td>5191.0</td>\n",
       "      <td>no</td>\n",
       "    </tr>\n",
       "    <tr>\n",
       "      <th>4</th>\n",
       "      <td>56</td>\n",
       "      <td>services</td>\n",
       "      <td>married</td>\n",
       "      <td>high.school</td>\n",
       "      <td>no</td>\n",
       "      <td>no</td>\n",
       "      <td>yes</td>\n",
       "      <td>telephone</td>\n",
       "      <td>may</td>\n",
       "      <td>mon</td>\n",
       "      <td>...</td>\n",
       "      <td>1</td>\n",
       "      <td>999</td>\n",
       "      <td>0</td>\n",
       "      <td>nonexistent</td>\n",
       "      <td>1.1</td>\n",
       "      <td>93.994</td>\n",
       "      <td>-36.4</td>\n",
       "      <td>4.857</td>\n",
       "      <td>5191.0</td>\n",
       "      <td>no</td>\n",
       "    </tr>\n",
       "    <tr>\n",
       "      <th>5</th>\n",
       "      <td>45</td>\n",
       "      <td>services</td>\n",
       "      <td>married</td>\n",
       "      <td>basic.9y</td>\n",
       "      <td>unknown</td>\n",
       "      <td>no</td>\n",
       "      <td>no</td>\n",
       "      <td>telephone</td>\n",
       "      <td>may</td>\n",
       "      <td>mon</td>\n",
       "      <td>...</td>\n",
       "      <td>1</td>\n",
       "      <td>999</td>\n",
       "      <td>0</td>\n",
       "      <td>nonexistent</td>\n",
       "      <td>1.1</td>\n",
       "      <td>93.994</td>\n",
       "      <td>-36.4</td>\n",
       "      <td>4.857</td>\n",
       "      <td>5191.0</td>\n",
       "      <td>no</td>\n",
       "    </tr>\n",
       "    <tr>\n",
       "      <th>6</th>\n",
       "      <td>59</td>\n",
       "      <td>admin.</td>\n",
       "      <td>married</td>\n",
       "      <td>professional.course</td>\n",
       "      <td>no</td>\n",
       "      <td>no</td>\n",
       "      <td>no</td>\n",
       "      <td>telephone</td>\n",
       "      <td>may</td>\n",
       "      <td>mon</td>\n",
       "      <td>...</td>\n",
       "      <td>1</td>\n",
       "      <td>999</td>\n",
       "      <td>0</td>\n",
       "      <td>nonexistent</td>\n",
       "      <td>1.1</td>\n",
       "      <td>93.994</td>\n",
       "      <td>-36.4</td>\n",
       "      <td>4.857</td>\n",
       "      <td>5191.0</td>\n",
       "      <td>no</td>\n",
       "    </tr>\n",
       "    <tr>\n",
       "      <th>7</th>\n",
       "      <td>41</td>\n",
       "      <td>blue-collar</td>\n",
       "      <td>married</td>\n",
       "      <td>unknown</td>\n",
       "      <td>unknown</td>\n",
       "      <td>no</td>\n",
       "      <td>no</td>\n",
       "      <td>telephone</td>\n",
       "      <td>may</td>\n",
       "      <td>mon</td>\n",
       "      <td>...</td>\n",
       "      <td>1</td>\n",
       "      <td>999</td>\n",
       "      <td>0</td>\n",
       "      <td>nonexistent</td>\n",
       "      <td>1.1</td>\n",
       "      <td>93.994</td>\n",
       "      <td>-36.4</td>\n",
       "      <td>4.857</td>\n",
       "      <td>5191.0</td>\n",
       "      <td>no</td>\n",
       "    </tr>\n",
       "    <tr>\n",
       "      <th>8</th>\n",
       "      <td>24</td>\n",
       "      <td>technician</td>\n",
       "      <td>single</td>\n",
       "      <td>professional.course</td>\n",
       "      <td>no</td>\n",
       "      <td>yes</td>\n",
       "      <td>no</td>\n",
       "      <td>telephone</td>\n",
       "      <td>may</td>\n",
       "      <td>mon</td>\n",
       "      <td>...</td>\n",
       "      <td>1</td>\n",
       "      <td>999</td>\n",
       "      <td>0</td>\n",
       "      <td>nonexistent</td>\n",
       "      <td>1.1</td>\n",
       "      <td>93.994</td>\n",
       "      <td>-36.4</td>\n",
       "      <td>4.857</td>\n",
       "      <td>5191.0</td>\n",
       "      <td>no</td>\n",
       "    </tr>\n",
       "    <tr>\n",
       "      <th>9</th>\n",
       "      <td>25</td>\n",
       "      <td>services</td>\n",
       "      <td>single</td>\n",
       "      <td>high.school</td>\n",
       "      <td>no</td>\n",
       "      <td>yes</td>\n",
       "      <td>no</td>\n",
       "      <td>telephone</td>\n",
       "      <td>may</td>\n",
       "      <td>mon</td>\n",
       "      <td>...</td>\n",
       "      <td>1</td>\n",
       "      <td>999</td>\n",
       "      <td>0</td>\n",
       "      <td>nonexistent</td>\n",
       "      <td>1.1</td>\n",
       "      <td>93.994</td>\n",
       "      <td>-36.4</td>\n",
       "      <td>4.857</td>\n",
       "      <td>5191.0</td>\n",
       "      <td>no</td>\n",
       "    </tr>\n",
       "  </tbody>\n",
       "</table>\n",
       "<p>10 rows × 21 columns</p>\n",
       "</div>"
      ],
      "text/plain": [
       "   age          job  marital            education  default housing loan  \\\n",
       "0   56    housemaid  married             basic.4y       no      no   no   \n",
       "1   57     services  married          high.school  unknown      no   no   \n",
       "2   37     services  married          high.school       no     yes   no   \n",
       "3   40       admin.  married             basic.6y       no      no   no   \n",
       "4   56     services  married          high.school       no      no  yes   \n",
       "5   45     services  married             basic.9y  unknown      no   no   \n",
       "6   59       admin.  married  professional.course       no      no   no   \n",
       "7   41  blue-collar  married              unknown  unknown      no   no   \n",
       "8   24   technician   single  professional.course       no     yes   no   \n",
       "9   25     services   single          high.school       no     yes   no   \n",
       "\n",
       "     contact month day_of_week  ...  campaign  pdays  previous     poutcome  \\\n",
       "0  telephone   may         mon  ...         1    999         0  nonexistent   \n",
       "1  telephone   may         mon  ...         1    999         0  nonexistent   \n",
       "2  telephone   may         mon  ...         1    999         0  nonexistent   \n",
       "3  telephone   may         mon  ...         1    999         0  nonexistent   \n",
       "4  telephone   may         mon  ...         1    999         0  nonexistent   \n",
       "5  telephone   may         mon  ...         1    999         0  nonexistent   \n",
       "6  telephone   may         mon  ...         1    999         0  nonexistent   \n",
       "7  telephone   may         mon  ...         1    999         0  nonexistent   \n",
       "8  telephone   may         mon  ...         1    999         0  nonexistent   \n",
       "9  telephone   may         mon  ...         1    999         0  nonexistent   \n",
       "\n",
       "  emp.var.rate  cons.price.idx  cons.conf.idx  euribor3m  nr.employed   y  \n",
       "0          1.1          93.994          -36.4      4.857       5191.0  no  \n",
       "1          1.1          93.994          -36.4      4.857       5191.0  no  \n",
       "2          1.1          93.994          -36.4      4.857       5191.0  no  \n",
       "3          1.1          93.994          -36.4      4.857       5191.0  no  \n",
       "4          1.1          93.994          -36.4      4.857       5191.0  no  \n",
       "5          1.1          93.994          -36.4      4.857       5191.0  no  \n",
       "6          1.1          93.994          -36.4      4.857       5191.0  no  \n",
       "7          1.1          93.994          -36.4      4.857       5191.0  no  \n",
       "8          1.1          93.994          -36.4      4.857       5191.0  no  \n",
       "9          1.1          93.994          -36.4      4.857       5191.0  no  \n",
       "\n",
       "[10 rows x 21 columns]"
      ]
     },
     "execution_count": 3,
     "metadata": {},
     "output_type": "execute_result"
    }
   ],
   "source": [
    "# File names of the four data sets\n",
    "#adultDataSet_filename = os.path.join(os.getcwd(), \"data\", \"censusData.csv\")\n",
    "#airbnbDataSet_filename = os.path.join(os.getcwd(), \"data\", \"airbnbListingsData.csv\")\n",
    "#WHRDataSet_filename = os.path.join(os.getcwd(), \"data\", \"WHR2018Chapter2OnlineData.csv\")\n",
    "#bookReviewDataSet_filename = os.path.join(os.getcwd(), \"data\", \"bookReviewsData.csv\")\n",
    "bankData_filename = os.path.join(os.getcwd(), \"data\", \"bank-additional-full.csv\")\n",
    "\n",
    "df = pd.read_csv(bankData_filename, delimiter = ';', header = 0)\n",
    "\n",
    "df.head(10)"
   ]
  },
  {
   "cell_type": "markdown",
   "metadata": {},
   "source": [
    "For this project, I have the freedom to create any model of my choosing. I plan to utilize a dataset from a marketing campaign performed by a Portuguese banking institution, rather than the pre-loaded datasets we are given. This dataset includes various features of each bank client, including demographic information like age and marital status, as well as information about previous campaigns with the client or spending information. For this project, I will be creating a model that predicts if clients will subscribe a term deposit of the bank, dependent on the various features included - the label in the raw data is \"y.\" This is a supervised learning and binary classification problem.\n",
    "\n",
    "There are many features in this data that provide a breadth of insight into a client's behavior and expected behavior. For reference, here are some definitions of the columns:\n",
    "\n",
    "age: Client's age\n",
    "\n",
    "job: Client's occupation\n",
    "\n",
    "marital: Client's marital status\n",
    "\n",
    "education: Client's education level\n",
    "\n",
    "default: Is client's credit in default? In this context, a credit in default indicates that the client has failed to make required payments on debt.\n",
    "\n",
    "housing: Does the client have a housing loan?\n",
    "\n",
    "loan: Does the client have a personal loan?\n",
    "\n",
    "contact: Contact communication type with the client. Note: contact includes checking if the client has subscribed to a term deposit.\n",
    "\n",
    "month: Last contact month of the year with client.\n",
    "\n",
    "day_of_week: Last contact day of the week with client.\n",
    "\n",
    "duration: Duration of the last contact with client in seconds. Note: You don't know the duration of a call until after it is made. After the call, you would know what the label is for that client anyways.\n",
    "\n",
    "campaign: Number of contacts for a client during this campaign.\n",
    "\n",
    "pdays: Number of days that passed since the client was contacted in the last campaign. -1 indicates that the client was not previously contacted.\n",
    "\n",
    "previous: Number of contacts performed before this campaign and for this client.\n",
    "\n",
    "poutcome: Outcome of the previous marketing campaign.\n",
    "\n",
    "emp.var.rate: Short for employment variation rate - this is a measure of the strength of the labor market.\n",
    "\n",
    "cons.price.idx: Short for consumer price index - this is a measure of the strentgh of consumption. It determines the change over time in prices paid by urban consumers.\n",
    "\n",
    "cons.conf.idx: Short for consumer confidence index - this is a measure of consumers' preceived strength of businesses and employment for the next six months.\n",
    "\n",
    "euribor3m: Short for 3 months Euribor (Euro Interbank Offered) rate - determines the interest rate at which credit institutions lend money to one another for the next three months.\n",
    "\n",
    "nr.employed: Number of employees at the bank.\n",
    "\n",
    "y: The label - has the client subscribed a term deposit?\n",
    "\n",
    "By solving this problem, the model can help private banks in determining which clients may be interested in subscribing to a term deposit. Term deposits are a great income source for banks, as banks can implement a rate of interest on a deposit that will be invested and maximized, and more importantly, the money can be used to lend to other customers or businesses. Since term deposits are inaccesible to clients for a given amount of time, banks can rely on the term deposits for lending without worrying about any unintentional bank runs. The campaign that this bank is using relies on telephone marketing, which can be a large investment. By being able to predict which clients are most likely to convert to subscribing a term deposit, the bank can minimize costs in the calls, and maximize on the profit from their clients."
   ]
  },
  {
   "cell_type": "code",
   "execution_count": 4,
   "metadata": {},
   "outputs": [
    {
     "data": {
      "text/plain": [
       "Index(['age', 'job', 'marital', 'education', 'default', 'housing', 'loan',\n",
       "       'contact', 'month', 'day_of_week', 'duration', 'campaign', 'pdays',\n",
       "       'previous', 'poutcome', 'emp.var.rate', 'cons.price.idx',\n",
       "       'cons.conf.idx', 'euribor3m', 'nr.employed', 'y'],\n",
       "      dtype='object')"
      ]
     },
     "execution_count": 4,
     "metadata": {},
     "output_type": "execute_result"
    }
   ],
   "source": [
    "df.columns"
   ]
  },
  {
   "cell_type": "code",
   "execution_count": 5,
   "metadata": {},
   "outputs": [],
   "source": [
    "#I'm not loving how messy some of the columns look, so let's rename them!\n",
    "df.rename(columns={'age':'Age', 'job': 'Occupation', 'marital': 'Marital_Status','education': 'Education',\n",
    "                   'default':'Client_credit_in_default?', 'housing':'Housing_Loan', 'loan':'Personal_Loan',\n",
    "                   'contact':'Contact_Form', 'month':'Contact_Month', 'day_of_week':'Contact_Day_of_Week',\n",
    "                   'duration':'Duration_of_Contact', 'campaign':'Num_Contact', 'pdays':'Days_Since_Last_Contact',\n",
    "                   'previous':'Total_Num_Contact', 'poutcome':'Outcome_of_Campaign', 'emp.var.rate':'Employment_Variation_Rate',\n",
    "                   'cons.price.idx':'Consumer_Price_Index', 'cons.conf.idx':'Consumer_Confidence_Index', 'euribor3m':'Euribor_3M_Rate',\n",
    "                   'nr.employed':'Num_Employees', 'y':'Subscribed?'}, inplace=True)"
   ]
  },
  {
   "cell_type": "code",
   "execution_count": 6,
   "metadata": {},
   "outputs": [
    {
     "data": {
      "text/html": [
       "<div>\n",
       "<style scoped>\n",
       "    .dataframe tbody tr th:only-of-type {\n",
       "        vertical-align: middle;\n",
       "    }\n",
       "\n",
       "    .dataframe tbody tr th {\n",
       "        vertical-align: top;\n",
       "    }\n",
       "\n",
       "    .dataframe thead th {\n",
       "        text-align: right;\n",
       "    }\n",
       "</style>\n",
       "<table border=\"1\" class=\"dataframe\">\n",
       "  <thead>\n",
       "    <tr style=\"text-align: right;\">\n",
       "      <th></th>\n",
       "      <th>Age</th>\n",
       "      <th>Occupation</th>\n",
       "      <th>Marital_Status</th>\n",
       "      <th>Education</th>\n",
       "      <th>Client_credit_in_default?</th>\n",
       "      <th>Housing_Loan</th>\n",
       "      <th>Personal_Loan</th>\n",
       "      <th>Contact_Form</th>\n",
       "      <th>Contact_Month</th>\n",
       "      <th>Contact_Day_of_Week</th>\n",
       "      <th>...</th>\n",
       "      <th>Num_Contact</th>\n",
       "      <th>Days_Since_Last_Contact</th>\n",
       "      <th>Total_Num_Contact</th>\n",
       "      <th>Outcome_of_Campaign</th>\n",
       "      <th>Employment_Variation_Rate</th>\n",
       "      <th>Consumer_Price_Index</th>\n",
       "      <th>Consumer_Confidence_Index</th>\n",
       "      <th>Euribor_3M_Rate</th>\n",
       "      <th>Num_Employees</th>\n",
       "      <th>Subscribed?</th>\n",
       "    </tr>\n",
       "  </thead>\n",
       "  <tbody>\n",
       "    <tr>\n",
       "      <th>0</th>\n",
       "      <td>56</td>\n",
       "      <td>housemaid</td>\n",
       "      <td>married</td>\n",
       "      <td>basic.4y</td>\n",
       "      <td>no</td>\n",
       "      <td>no</td>\n",
       "      <td>no</td>\n",
       "      <td>telephone</td>\n",
       "      <td>may</td>\n",
       "      <td>mon</td>\n",
       "      <td>...</td>\n",
       "      <td>1</td>\n",
       "      <td>999</td>\n",
       "      <td>0</td>\n",
       "      <td>nonexistent</td>\n",
       "      <td>1.1</td>\n",
       "      <td>93.994</td>\n",
       "      <td>-36.4</td>\n",
       "      <td>4.857</td>\n",
       "      <td>5191.0</td>\n",
       "      <td>no</td>\n",
       "    </tr>\n",
       "    <tr>\n",
       "      <th>1</th>\n",
       "      <td>57</td>\n",
       "      <td>services</td>\n",
       "      <td>married</td>\n",
       "      <td>high.school</td>\n",
       "      <td>unknown</td>\n",
       "      <td>no</td>\n",
       "      <td>no</td>\n",
       "      <td>telephone</td>\n",
       "      <td>may</td>\n",
       "      <td>mon</td>\n",
       "      <td>...</td>\n",
       "      <td>1</td>\n",
       "      <td>999</td>\n",
       "      <td>0</td>\n",
       "      <td>nonexistent</td>\n",
       "      <td>1.1</td>\n",
       "      <td>93.994</td>\n",
       "      <td>-36.4</td>\n",
       "      <td>4.857</td>\n",
       "      <td>5191.0</td>\n",
       "      <td>no</td>\n",
       "    </tr>\n",
       "    <tr>\n",
       "      <th>2</th>\n",
       "      <td>37</td>\n",
       "      <td>services</td>\n",
       "      <td>married</td>\n",
       "      <td>high.school</td>\n",
       "      <td>no</td>\n",
       "      <td>yes</td>\n",
       "      <td>no</td>\n",
       "      <td>telephone</td>\n",
       "      <td>may</td>\n",
       "      <td>mon</td>\n",
       "      <td>...</td>\n",
       "      <td>1</td>\n",
       "      <td>999</td>\n",
       "      <td>0</td>\n",
       "      <td>nonexistent</td>\n",
       "      <td>1.1</td>\n",
       "      <td>93.994</td>\n",
       "      <td>-36.4</td>\n",
       "      <td>4.857</td>\n",
       "      <td>5191.0</td>\n",
       "      <td>no</td>\n",
       "    </tr>\n",
       "    <tr>\n",
       "      <th>3</th>\n",
       "      <td>40</td>\n",
       "      <td>admin.</td>\n",
       "      <td>married</td>\n",
       "      <td>basic.6y</td>\n",
       "      <td>no</td>\n",
       "      <td>no</td>\n",
       "      <td>no</td>\n",
       "      <td>telephone</td>\n",
       "      <td>may</td>\n",
       "      <td>mon</td>\n",
       "      <td>...</td>\n",
       "      <td>1</td>\n",
       "      <td>999</td>\n",
       "      <td>0</td>\n",
       "      <td>nonexistent</td>\n",
       "      <td>1.1</td>\n",
       "      <td>93.994</td>\n",
       "      <td>-36.4</td>\n",
       "      <td>4.857</td>\n",
       "      <td>5191.0</td>\n",
       "      <td>no</td>\n",
       "    </tr>\n",
       "    <tr>\n",
       "      <th>4</th>\n",
       "      <td>56</td>\n",
       "      <td>services</td>\n",
       "      <td>married</td>\n",
       "      <td>high.school</td>\n",
       "      <td>no</td>\n",
       "      <td>no</td>\n",
       "      <td>yes</td>\n",
       "      <td>telephone</td>\n",
       "      <td>may</td>\n",
       "      <td>mon</td>\n",
       "      <td>...</td>\n",
       "      <td>1</td>\n",
       "      <td>999</td>\n",
       "      <td>0</td>\n",
       "      <td>nonexistent</td>\n",
       "      <td>1.1</td>\n",
       "      <td>93.994</td>\n",
       "      <td>-36.4</td>\n",
       "      <td>4.857</td>\n",
       "      <td>5191.0</td>\n",
       "      <td>no</td>\n",
       "    </tr>\n",
       "  </tbody>\n",
       "</table>\n",
       "<p>5 rows × 21 columns</p>\n",
       "</div>"
      ],
      "text/plain": [
       "   Age Occupation Marital_Status    Education Client_credit_in_default?  \\\n",
       "0   56  housemaid        married     basic.4y                        no   \n",
       "1   57   services        married  high.school                   unknown   \n",
       "2   37   services        married  high.school                        no   \n",
       "3   40     admin.        married     basic.6y                        no   \n",
       "4   56   services        married  high.school                        no   \n",
       "\n",
       "  Housing_Loan Personal_Loan Contact_Form Contact_Month Contact_Day_of_Week  \\\n",
       "0           no            no    telephone           may                 mon   \n",
       "1           no            no    telephone           may                 mon   \n",
       "2          yes            no    telephone           may                 mon   \n",
       "3           no            no    telephone           may                 mon   \n",
       "4           no           yes    telephone           may                 mon   \n",
       "\n",
       "   ...  Num_Contact  Days_Since_Last_Contact  Total_Num_Contact  \\\n",
       "0  ...            1                      999                  0   \n",
       "1  ...            1                      999                  0   \n",
       "2  ...            1                      999                  0   \n",
       "3  ...            1                      999                  0   \n",
       "4  ...            1                      999                  0   \n",
       "\n",
       "   Outcome_of_Campaign Employment_Variation_Rate  Consumer_Price_Index  \\\n",
       "0          nonexistent                       1.1                93.994   \n",
       "1          nonexistent                       1.1                93.994   \n",
       "2          nonexistent                       1.1                93.994   \n",
       "3          nonexistent                       1.1                93.994   \n",
       "4          nonexistent                       1.1                93.994   \n",
       "\n",
       "   Consumer_Confidence_Index  Euribor_3M_Rate  Num_Employees  Subscribed?  \n",
       "0                      -36.4            4.857         5191.0           no  \n",
       "1                      -36.4            4.857         5191.0           no  \n",
       "2                      -36.4            4.857         5191.0           no  \n",
       "3                      -36.4            4.857         5191.0           no  \n",
       "4                      -36.4            4.857         5191.0           no  \n",
       "\n",
       "[5 rows x 21 columns]"
      ]
     },
     "execution_count": 6,
     "metadata": {},
     "output_type": "execute_result"
    }
   ],
   "source": [
    "df.head()"
   ]
  },
  {
   "cell_type": "markdown",
   "metadata": {},
   "source": [
    "## Data Visualization"
   ]
  },
  {
   "cell_type": "markdown",
   "metadata": {},
   "source": [
    "Let's take a look at the relationships in some of the data!"
   ]
  },
  {
   "cell_type": "code",
   "execution_count": 7,
   "metadata": {},
   "outputs": [
    {
     "data": {
      "text/plain": [
       "<AxesSubplot: xlabel='Age', ylabel='Subscribed?'>"
      ]
     },
     "execution_count": 7,
     "metadata": {},
     "output_type": "execute_result"
    },
    {
     "data": {
      "image/png": "[encoded data removed]",
      "text/plain": [
       "<Figure size 640x480 with 1 Axes>"
      ]
     },
     "metadata": {},
     "output_type": "display_data"
    }
   ],
   "source": [
    "sns.histplot(x = df['Age'], y = df['Subscribed?'])"
   ]
  },
  {
   "cell_type": "markdown",
   "metadata": {},
   "source": [
    "Looks like we can sense a little trend here - those in the 30-45 age range seem to not plan on subscribing to a term deposit. Let's get to know the spread of a few other features."
   ]
  },
  {
   "cell_type": "code",
   "execution_count": 8,
   "metadata": {},
   "outputs": [
    {
     "data": {
      "text/plain": [
       "<AxesSubplot: xlabel='Days_Since_Last_Contact'>"
      ]
     },
     "execution_count": 8,
     "metadata": {},
     "output_type": "execute_result"
    },
    {
     "data": {
      "image/png": "[encoded data removed]",
      "text/plain": [
       "<Figure size 640x480 with 1 Axes>"
      ]
     },
     "metadata": {},
     "output_type": "display_data"
    }
   ],
   "source": [
    "sns.boxplot(x = df['Days_Since_Last_Contact'])"
   ]
  },
  {
   "cell_type": "markdown",
   "metadata": {},
   "source": [
    "This is a little concerning! It looks like nearly all of the data points are found at 999, a value I assume implies that the client hasn't been contacted. Given that there are nearly 42,000 points of data, I would like to see if the number of clients that were contacted recently is significant enough to keep."
   ]
  },
  {
   "cell_type": "code",
   "execution_count": 9,
   "metadata": {},
   "outputs": [
    {
     "data": {
      "text/plain": [
       "1515"
      ]
     },
     "execution_count": 9,
     "metadata": {},
     "output_type": "execute_result"
    }
   ],
   "source": [
    "filtered_df = df[df['Days_Since_Last_Contact'] != 999]\n",
    "count = filtered_df.shape[0]\n",
    "count"
   ]
  },
  {
   "cell_type": "markdown",
   "metadata": {},
   "source": [
    "Okay that's a really small amount. In the grand scheme of things, this is an incredibly insignificant feature, so let's get rid of it!|"
   ]
  },
  {
   "cell_type": "code",
   "execution_count": 10,
   "metadata": {},
   "outputs": [],
   "source": [
    "df.drop(columns = 'Days_Since_Last_Contact', inplace=True)"
   ]
  },
  {
   "cell_type": "code",
   "execution_count": 11,
   "metadata": {},
   "outputs": [
    {
     "data": {
      "text/plain": [
       "<AxesSubplot: xlabel='Employment_Variation_Rate'>"
      ]
     },
     "execution_count": 11,
     "metadata": {},
     "output_type": "execute_result"
    },
    {
     "data": {
      "image/png": "[encoded data removed]",
      "text/plain": [
       "<Figure size 640x480 with 1 Axes>"
      ]
     },
     "metadata": {},
     "output_type": "display_data"
    }
   ],
   "source": [
    "sns.boxplot(x = df['Employment_Variation_Rate'])"
   ]
  },
  {
   "cell_type": "code",
   "execution_count": 12,
   "metadata": {},
   "outputs": [
    {
     "data": {
      "text/plain": [
       "<AxesSubplot: xlabel='Consumer_Price_Index'>"
      ]
     },
     "execution_count": 12,
     "metadata": {},
     "output_type": "execute_result"
    },
    {
     "data": {
      "image/png": "[encoded data removed]",
      "text/plain": [
       "<Figure size 640x480 with 1 Axes>"
      ]
     },
     "metadata": {},
     "output_type": "display_data"
    }
   ],
   "source": [
    "sns.boxplot(x = df['Consumer_Price_Index'])"
   ]
  },
  {
   "cell_type": "code",
   "execution_count": 13,
   "metadata": {},
   "outputs": [
    {
     "data": {
      "text/plain": [
       "<AxesSubplot: xlabel='Consumer_Confidence_Index'>"
      ]
     },
     "execution_count": 13,
     "metadata": {},
     "output_type": "execute_result"
    },
    {
     "data": {
      "image/png": "[encoded data removed]",
      "text/plain": [
       "<Figure size 640x480 with 1 Axes>"
      ]
     },
     "metadata": {},
     "output_type": "display_data"
    }
   ],
   "source": [
    "sns.boxplot(x = df['Consumer_Confidence_Index'])"
   ]
  },
  {
   "cell_type": "code",
   "execution_count": 14,
   "metadata": {},
   "outputs": [
    {
     "data": {
      "text/plain": [
       "714"
      ]
     },
     "execution_count": 14,
     "metadata": {},
     "output_type": "execute_result"
    }
   ],
   "source": [
    "filtered_df = df[df['Consumer_Confidence_Index'] > -30]\n",
    "count = filtered_df.shape[0]\n",
    "count"
   ]
  },
  {
   "cell_type": "markdown",
   "metadata": {},
   "source": [
    "Looks like we've got some outliers here. We'll address them later on."
   ]
  },
  {
   "cell_type": "code",
   "execution_count": 15,
   "metadata": {},
   "outputs": [
    {
     "data": {
      "text/plain": [
       "<AxesSubplot: xlabel='Euribor_3M_Rate'>"
      ]
     },
     "execution_count": 15,
     "metadata": {},
     "output_type": "execute_result"
    },
    {
     "data": {
      "image/png": "[encoded data removed]",
      "text/plain": [
       "<Figure size 640x480 with 1 Axes>"
      ]
     },
     "metadata": {},
     "output_type": "display_data"
    }
   ],
   "source": [
    "sns.boxplot(x = df['Euribor_3M_Rate'])"
   ]
  },
  {
   "cell_type": "code",
   "execution_count": 16,
   "metadata": {},
   "outputs": [
    {
     "data": {
      "text/plain": [
       "<AxesSubplot: xlabel='Num_Employees'>"
      ]
     },
     "execution_count": 16,
     "metadata": {},
     "output_type": "execute_result"
    },
    {
     "data": {
      "image/png": "[encoded data removed]",
      "text/plain": [
       "<Figure size 640x480 with 1 Axes>"
      ]
     },
     "metadata": {},
     "output_type": "display_data"
    }
   ],
   "source": [
    "sns.boxplot(x = df['Num_Employees'])"
   ]
  },
  {
   "cell_type": "markdown",
   "metadata": {},
   "source": [
    "## Data Cleaning\n",
    "\n",
    "Time to clean the data and get a closer look! After getting a look at the columns of the data, I have a better understanding of what kind of information is being fed into the model. I suspect that some of the columns could potentially be removed for redundancy. To check if columns have varying data, I use .unique(). To check for missing values, I use .isnull() and sum the missing values in each column. "
   ]
  },
  {
   "cell_type": "markdown",
   "metadata": {},
   "source": [
    "## Checking for Missing Values"
   ]
  },
  {
   "cell_type": "code",
   "execution_count": 17,
   "metadata": {},
   "outputs": [
    {
     "data": {
      "text/plain": [
       "Age                          0\n",
       "Occupation                   0\n",
       "Marital_Status               0\n",
       "Education                    0\n",
       "Client_credit_in_default?    0\n",
       "Housing_Loan                 0\n",
       "Personal_Loan                0\n",
       "Contact_Form                 0\n",
       "Contact_Month                0\n",
       "Contact_Day_of_Week          0\n",
       "Duration_of_Contact          0\n",
       "Num_Contact                  0\n",
       "Total_Num_Contact            0\n",
       "Outcome_of_Campaign          0\n",
       "Employment_Variation_Rate    0\n",
       "Consumer_Price_Index         0\n",
       "Consumer_Confidence_Index    0\n",
       "Euribor_3M_Rate              0\n",
       "Num_Employees                0\n",
       "Subscribed?                  0\n",
       "dtype: int64"
      ]
     },
     "execution_count": 17,
     "metadata": {},
     "output_type": "execute_result"
    }
   ],
   "source": [
    "#identifying missing data\n",
    "nan_count = np.sum(df.isnull(), axis = 0)\n",
    "nan_count"
   ]
  },
  {
   "cell_type": "code",
   "execution_count": 18,
   "metadata": {},
   "outputs": [],
   "source": [
    "#checking to see if any of the columns have only one value input\n",
    "for col in df.columns:\n",
    "    if (len(list(df[col].unique())) <= 1):\n",
    "        print(col)"
   ]
  },
  {
   "cell_type": "markdown",
   "metadata": {},
   "source": [
    "Just to double check if any columns have missing values, I investigated columns that are more likely to have missing data, like information about education or marital status"
   ]
  },
  {
   "cell_type": "code",
   "execution_count": 19,
   "metadata": {},
   "outputs": [
    {
     "name": "stdout",
     "output_type": "stream",
     "text": [
      "False\n",
      "False\n"
     ]
    }
   ],
   "source": [
    "print(df['Education'].isnull().values.any())\n",
    "print(df['Marital_Status'].isnull().values.any())"
   ]
  },
  {
   "cell_type": "code",
   "execution_count": 20,
   "metadata": {},
   "outputs": [
    {
     "data": {
      "text/plain": [
       "Age                            int64\n",
       "Occupation                    object\n",
       "Marital_Status                object\n",
       "Education                     object\n",
       "Client_credit_in_default?     object\n",
       "Housing_Loan                  object\n",
       "Personal_Loan                 object\n",
       "Contact_Form                  object\n",
       "Contact_Month                 object\n",
       "Contact_Day_of_Week           object\n",
       "Duration_of_Contact            int64\n",
       "Num_Contact                    int64\n",
       "Total_Num_Contact              int64\n",
       "Outcome_of_Campaign           object\n",
       "Employment_Variation_Rate    float64\n",
       "Consumer_Price_Index         float64\n",
       "Consumer_Confidence_Index    float64\n",
       "Euribor_3M_Rate              float64\n",
       "Num_Employees                float64\n",
       "Subscribed?                   object\n",
       "dtype: object"
      ]
     },
     "execution_count": 20,
     "metadata": {},
     "output_type": "execute_result"
    }
   ],
   "source": [
    "#checking the column types\n",
    "col = df.columns\n",
    "col_types = df[col].dtypes\n",
    "col_types"
   ]
  },
  {
   "cell_type": "markdown",
   "metadata": {},
   "source": [
    "There's a few features that require one-hot-encoding, so we'll investigate the various answers on all the 'object' columns first."
   ]
  },
  {
   "cell_type": "code",
   "execution_count": 21,
   "metadata": {},
   "outputs": [
    {
     "data": {
      "text/html": [
       "<div>\n",
       "<style scoped>\n",
       "    .dataframe tbody tr th:only-of-type {\n",
       "        vertical-align: middle;\n",
       "    }\n",
       "\n",
       "    .dataframe tbody tr th {\n",
       "        vertical-align: top;\n",
       "    }\n",
       "\n",
       "    .dataframe thead th {\n",
       "        text-align: right;\n",
       "    }\n",
       "</style>\n",
       "<table border=\"1\" class=\"dataframe\">\n",
       "  <thead>\n",
       "    <tr style=\"text-align: right;\">\n",
       "      <th></th>\n",
       "      <th>Age</th>\n",
       "      <th>Occupation</th>\n",
       "      <th>Marital_Status</th>\n",
       "      <th>Education</th>\n",
       "      <th>Client_credit_in_default?</th>\n",
       "      <th>Housing_Loan</th>\n",
       "      <th>Personal_Loan</th>\n",
       "      <th>Contact_Form</th>\n",
       "      <th>Contact_Month</th>\n",
       "      <th>Contact_Day_of_Week</th>\n",
       "      <th>Duration_of_Contact</th>\n",
       "      <th>Num_Contact</th>\n",
       "      <th>Total_Num_Contact</th>\n",
       "      <th>Outcome_of_Campaign</th>\n",
       "      <th>Employment_Variation_Rate</th>\n",
       "      <th>Consumer_Price_Index</th>\n",
       "      <th>Consumer_Confidence_Index</th>\n",
       "      <th>Euribor_3M_Rate</th>\n",
       "      <th>Num_Employees</th>\n",
       "      <th>Subscribed?</th>\n",
       "    </tr>\n",
       "  </thead>\n",
       "  <tbody>\n",
       "    <tr>\n",
       "      <th>count</th>\n",
       "      <td>41188.00000</td>\n",
       "      <td>41188</td>\n",
       "      <td>41188</td>\n",
       "      <td>41188</td>\n",
       "      <td>41188</td>\n",
       "      <td>41188</td>\n",
       "      <td>41188</td>\n",
       "      <td>41188</td>\n",
       "      <td>41188</td>\n",
       "      <td>41188</td>\n",
       "      <td>41188.000000</td>\n",
       "      <td>41188.000000</td>\n",
       "      <td>41188.000000</td>\n",
       "      <td>41188</td>\n",
       "      <td>41188.000000</td>\n",
       "      <td>41188.000000</td>\n",
       "      <td>41188.000000</td>\n",
       "      <td>41188.000000</td>\n",
       "      <td>41188.000000</td>\n",
       "      <td>41188</td>\n",
       "    </tr>\n",
       "    <tr>\n",
       "      <th>unique</th>\n",
       "      <td>NaN</td>\n",
       "      <td>12</td>\n",
       "      <td>4</td>\n",
       "      <td>8</td>\n",
       "      <td>3</td>\n",
       "      <td>3</td>\n",
       "      <td>3</td>\n",
       "      <td>2</td>\n",
       "      <td>10</td>\n",
       "      <td>5</td>\n",
       "      <td>NaN</td>\n",
       "      <td>NaN</td>\n",
       "      <td>NaN</td>\n",
       "      <td>3</td>\n",
       "      <td>NaN</td>\n",
       "      <td>NaN</td>\n",
       "      <td>NaN</td>\n",
       "      <td>NaN</td>\n",
       "      <td>NaN</td>\n",
       "      <td>2</td>\n",
       "    </tr>\n",
       "    <tr>\n",
       "      <th>top</th>\n",
       "      <td>NaN</td>\n",
       "      <td>admin.</td>\n",
       "      <td>married</td>\n",
       "      <td>university.degree</td>\n",
       "      <td>no</td>\n",
       "      <td>yes</td>\n",
       "      <td>no</td>\n",
       "      <td>cellular</td>\n",
       "      <td>may</td>\n",
       "      <td>thu</td>\n",
       "      <td>NaN</td>\n",
       "      <td>NaN</td>\n",
       "      <td>NaN</td>\n",
       "      <td>nonexistent</td>\n",
       "      <td>NaN</td>\n",
       "      <td>NaN</td>\n",
       "      <td>NaN</td>\n",
       "      <td>NaN</td>\n",
       "      <td>NaN</td>\n",
       "      <td>no</td>\n",
       "    </tr>\n",
       "    <tr>\n",
       "      <th>freq</th>\n",
       "      <td>NaN</td>\n",
       "      <td>10422</td>\n",
       "      <td>24928</td>\n",
       "      <td>12168</td>\n",
       "      <td>32588</td>\n",
       "      <td>21576</td>\n",
       "      <td>33950</td>\n",
       "      <td>26144</td>\n",
       "      <td>13769</td>\n",
       "      <td>8623</td>\n",
       "      <td>NaN</td>\n",
       "      <td>NaN</td>\n",
       "      <td>NaN</td>\n",
       "      <td>35563</td>\n",
       "      <td>NaN</td>\n",
       "      <td>NaN</td>\n",
       "      <td>NaN</td>\n",
       "      <td>NaN</td>\n",
       "      <td>NaN</td>\n",
       "      <td>36548</td>\n",
       "    </tr>\n",
       "    <tr>\n",
       "      <th>mean</th>\n",
       "      <td>40.02406</td>\n",
       "      <td>NaN</td>\n",
       "      <td>NaN</td>\n",
       "      <td>NaN</td>\n",
       "      <td>NaN</td>\n",
       "      <td>NaN</td>\n",
       "      <td>NaN</td>\n",
       "      <td>NaN</td>\n",
       "      <td>NaN</td>\n",
       "      <td>NaN</td>\n",
       "      <td>258.285010</td>\n",
       "      <td>2.567593</td>\n",
       "      <td>0.172963</td>\n",
       "      <td>NaN</td>\n",
       "      <td>0.081886</td>\n",
       "      <td>93.575664</td>\n",
       "      <td>-40.502600</td>\n",
       "      <td>3.621291</td>\n",
       "      <td>5167.035911</td>\n",
       "      <td>NaN</td>\n",
       "    </tr>\n",
       "    <tr>\n",
       "      <th>std</th>\n",
       "      <td>10.42125</td>\n",
       "      <td>NaN</td>\n",
       "      <td>NaN</td>\n",
       "      <td>NaN</td>\n",
       "      <td>NaN</td>\n",
       "      <td>NaN</td>\n",
       "      <td>NaN</td>\n",
       "      <td>NaN</td>\n",
       "      <td>NaN</td>\n",
       "      <td>NaN</td>\n",
       "      <td>259.279249</td>\n",
       "      <td>2.770014</td>\n",
       "      <td>0.494901</td>\n",
       "      <td>NaN</td>\n",
       "      <td>1.570960</td>\n",
       "      <td>0.578840</td>\n",
       "      <td>4.628198</td>\n",
       "      <td>1.734447</td>\n",
       "      <td>72.251528</td>\n",
       "      <td>NaN</td>\n",
       "    </tr>\n",
       "    <tr>\n",
       "      <th>min</th>\n",
       "      <td>17.00000</td>\n",
       "      <td>NaN</td>\n",
       "      <td>NaN</td>\n",
       "      <td>NaN</td>\n",
       "      <td>NaN</td>\n",
       "      <td>NaN</td>\n",
       "      <td>NaN</td>\n",
       "      <td>NaN</td>\n",
       "      <td>NaN</td>\n",
       "      <td>NaN</td>\n",
       "      <td>0.000000</td>\n",
       "      <td>1.000000</td>\n",
       "      <td>0.000000</td>\n",
       "      <td>NaN</td>\n",
       "      <td>-3.400000</td>\n",
       "      <td>92.201000</td>\n",
       "      <td>-50.800000</td>\n",
       "      <td>0.634000</td>\n",
       "      <td>4963.600000</td>\n",
       "      <td>NaN</td>\n",
       "    </tr>\n",
       "    <tr>\n",
       "      <th>25%</th>\n",
       "      <td>32.00000</td>\n",
       "      <td>NaN</td>\n",
       "      <td>NaN</td>\n",
       "      <td>NaN</td>\n",
       "      <td>NaN</td>\n",
       "      <td>NaN</td>\n",
       "      <td>NaN</td>\n",
       "      <td>NaN</td>\n",
       "      <td>NaN</td>\n",
       "      <td>NaN</td>\n",
       "      <td>102.000000</td>\n",
       "      <td>1.000000</td>\n",
       "      <td>0.000000</td>\n",
       "      <td>NaN</td>\n",
       "      <td>-1.800000</td>\n",
       "      <td>93.075000</td>\n",
       "      <td>-42.700000</td>\n",
       "      <td>1.344000</td>\n",
       "      <td>5099.100000</td>\n",
       "      <td>NaN</td>\n",
       "    </tr>\n",
       "    <tr>\n",
       "      <th>50%</th>\n",
       "      <td>38.00000</td>\n",
       "      <td>NaN</td>\n",
       "      <td>NaN</td>\n",
       "      <td>NaN</td>\n",
       "      <td>NaN</td>\n",
       "      <td>NaN</td>\n",
       "      <td>NaN</td>\n",
       "      <td>NaN</td>\n",
       "      <td>NaN</td>\n",
       "      <td>NaN</td>\n",
       "      <td>180.000000</td>\n",
       "      <td>2.000000</td>\n",
       "      <td>0.000000</td>\n",
       "      <td>NaN</td>\n",
       "      <td>1.100000</td>\n",
       "      <td>93.749000</td>\n",
       "      <td>-41.800000</td>\n",
       "      <td>4.857000</td>\n",
       "      <td>5191.000000</td>\n",
       "      <td>NaN</td>\n",
       "    </tr>\n",
       "    <tr>\n",
       "      <th>75%</th>\n",
       "      <td>47.00000</td>\n",
       "      <td>NaN</td>\n",
       "      <td>NaN</td>\n",
       "      <td>NaN</td>\n",
       "      <td>NaN</td>\n",
       "      <td>NaN</td>\n",
       "      <td>NaN</td>\n",
       "      <td>NaN</td>\n",
       "      <td>NaN</td>\n",
       "      <td>NaN</td>\n",
       "      <td>319.000000</td>\n",
       "      <td>3.000000</td>\n",
       "      <td>0.000000</td>\n",
       "      <td>NaN</td>\n",
       "      <td>1.400000</td>\n",
       "      <td>93.994000</td>\n",
       "      <td>-36.400000</td>\n",
       "      <td>4.961000</td>\n",
       "      <td>5228.100000</td>\n",
       "      <td>NaN</td>\n",
       "    </tr>\n",
       "    <tr>\n",
       "      <th>max</th>\n",
       "      <td>98.00000</td>\n",
       "      <td>NaN</td>\n",
       "      <td>NaN</td>\n",
       "      <td>NaN</td>\n",
       "      <td>NaN</td>\n",
       "      <td>NaN</td>\n",
       "      <td>NaN</td>\n",
       "      <td>NaN</td>\n",
       "      <td>NaN</td>\n",
       "      <td>NaN</td>\n",
       "      <td>4918.000000</td>\n",
       "      <td>56.000000</td>\n",
       "      <td>7.000000</td>\n",
       "      <td>NaN</td>\n",
       "      <td>1.400000</td>\n",
       "      <td>94.767000</td>\n",
       "      <td>-26.900000</td>\n",
       "      <td>5.045000</td>\n",
       "      <td>5228.100000</td>\n",
       "      <td>NaN</td>\n",
       "    </tr>\n",
       "  </tbody>\n",
       "</table>\n",
       "</div>"
      ],
      "text/plain": [
       "                Age Occupation Marital_Status          Education  \\\n",
       "count   41188.00000      41188          41188              41188   \n",
       "unique          NaN         12              4                  8   \n",
       "top             NaN     admin.        married  university.degree   \n",
       "freq            NaN      10422          24928              12168   \n",
       "mean       40.02406        NaN            NaN                NaN   \n",
       "std        10.42125        NaN            NaN                NaN   \n",
       "min        17.00000        NaN            NaN                NaN   \n",
       "25%        32.00000        NaN            NaN                NaN   \n",
       "50%        38.00000        NaN            NaN                NaN   \n",
       "75%        47.00000        NaN            NaN                NaN   \n",
       "max        98.00000        NaN            NaN                NaN   \n",
       "\n",
       "       Client_credit_in_default? Housing_Loan Personal_Loan Contact_Form  \\\n",
       "count                      41188        41188         41188        41188   \n",
       "unique                         3            3             3            2   \n",
       "top                           no          yes            no     cellular   \n",
       "freq                       32588        21576         33950        26144   \n",
       "mean                         NaN          NaN           NaN          NaN   \n",
       "std                          NaN          NaN           NaN          NaN   \n",
       "min                          NaN          NaN           NaN          NaN   \n",
       "25%                          NaN          NaN           NaN          NaN   \n",
       "50%                          NaN          NaN           NaN          NaN   \n",
       "75%                          NaN          NaN           NaN          NaN   \n",
       "max                          NaN          NaN           NaN          NaN   \n",
       "\n",
       "       Contact_Month Contact_Day_of_Week  Duration_of_Contact   Num_Contact  \\\n",
       "count          41188               41188         41188.000000  41188.000000   \n",
       "unique            10                   5                  NaN           NaN   \n",
       "top              may                 thu                  NaN           NaN   \n",
       "freq           13769                8623                  NaN           NaN   \n",
       "mean             NaN                 NaN           258.285010      2.567593   \n",
       "std              NaN                 NaN           259.279249      2.770014   \n",
       "min              NaN                 NaN             0.000000      1.000000   \n",
       "25%              NaN                 NaN           102.000000      1.000000   \n",
       "50%              NaN                 NaN           180.000000      2.000000   \n",
       "75%              NaN                 NaN           319.000000      3.000000   \n",
       "max              NaN                 NaN          4918.000000     56.000000   \n",
       "\n",
       "        Total_Num_Contact Outcome_of_Campaign  Employment_Variation_Rate  \\\n",
       "count        41188.000000               41188               41188.000000   \n",
       "unique                NaN                   3                        NaN   \n",
       "top                   NaN         nonexistent                        NaN   \n",
       "freq                  NaN               35563                        NaN   \n",
       "mean             0.172963                 NaN                   0.081886   \n",
       "std              0.494901                 NaN                   1.570960   \n",
       "min              0.000000                 NaN                  -3.400000   \n",
       "25%              0.000000                 NaN                  -1.800000   \n",
       "50%              0.000000                 NaN                   1.100000   \n",
       "75%              0.000000                 NaN                   1.400000   \n",
       "max              7.000000                 NaN                   1.400000   \n",
       "\n",
       "        Consumer_Price_Index  Consumer_Confidence_Index  Euribor_3M_Rate  \\\n",
       "count           41188.000000               41188.000000     41188.000000   \n",
       "unique                   NaN                        NaN              NaN   \n",
       "top                      NaN                        NaN              NaN   \n",
       "freq                     NaN                        NaN              NaN   \n",
       "mean               93.575664                 -40.502600         3.621291   \n",
       "std                 0.578840                   4.628198         1.734447   \n",
       "min                92.201000                 -50.800000         0.634000   \n",
       "25%                93.075000                 -42.700000         1.344000   \n",
       "50%                93.749000                 -41.800000         4.857000   \n",
       "75%                93.994000                 -36.400000         4.961000   \n",
       "max                94.767000                 -26.900000         5.045000   \n",
       "\n",
       "        Num_Employees Subscribed?  \n",
       "count    41188.000000       41188  \n",
       "unique            NaN           2  \n",
       "top               NaN          no  \n",
       "freq              NaN       36548  \n",
       "mean      5167.035911         NaN  \n",
       "std         72.251528         NaN  \n",
       "min       4963.600000         NaN  \n",
       "25%       5099.100000         NaN  \n",
       "50%       5191.000000         NaN  \n",
       "75%       5228.100000         NaN  \n",
       "max       5228.100000         NaN  "
      ]
     },
     "execution_count": 21,
     "metadata": {},
     "output_type": "execute_result"
    }
   ],
   "source": [
    "#summary of the dataframe\n",
    "df_summ = df.describe(include = 'all')\n",
    "df_summ"
   ]
  },
  {
   "cell_type": "markdown",
   "metadata": {},
   "source": [
    "From the summary, we can deduce that all the object columns have an appropriate number of unique answers for us to one-hot encode. Note: there is a section that is concealed with ellipses, but the column we can't see is duration, which is a numberical column already, and does not requite one-hot encoding.\n",
    "\n",
    "Upon closer analysis, I noticed that 36548/41188 data points were labeled as no, which means nearly 90% of all the data is labeled one way in a binary classification problem. ultimately, this may lead to some issues down the line with assessing the model's performance through the accuracy score, so I'll include ROC and AUC curves in the analysis.\n",
    "\n",
    "It looks like there are some unknown values among the features that maybe didn't pop up as NaN (binary with 3 options and such.) Let's address them."
   ]
  },
  {
   "cell_type": "code",
   "execution_count": 22,
   "metadata": {},
   "outputs": [
    {
     "data": {
      "text/plain": [
       "array(['no', 'yes', 'unknown'], dtype=object)"
      ]
     },
     "execution_count": 22,
     "metadata": {},
     "output_type": "execute_result"
    }
   ],
   "source": [
    "df['Housing_Loan'].unique()"
   ]
  },
  {
   "cell_type": "code",
   "execution_count": 23,
   "metadata": {},
   "outputs": [
    {
     "name": "stderr",
     "output_type": "stream",
     "text": [
      "/tmp/ipykernel_1550/193035793.py:2: FutureWarning: elementwise comparison failed; returning scalar instead, but in the future will perform elementwise comparison\n",
      "  columns_with_unknown = [col for col in df.columns if 'unknown' in df[col].unique()]\n"
     ]
    },
    {
     "data": {
      "text/plain": [
       "['Occupation',\n",
       " 'Marital_Status',\n",
       " 'Education',\n",
       " 'Client_credit_in_default?',\n",
       " 'Housing_Loan',\n",
       " 'Personal_Loan']"
      ]
     },
     "execution_count": 23,
     "metadata": {},
     "output_type": "execute_result"
    }
   ],
   "source": [
    "#I'm not sure which other features have unknown as an option. Let's check!\n",
    "columns_with_unknown = [col for col in df.columns if 'unknown' in df[col].unique()]\n",
    "columns_with_unknown"
   ]
  },
  {
   "cell_type": "markdown",
   "metadata": {},
   "source": [
    "Okay, know that we have all the columns with unknown values, it's time to comb through a column for all the rows containing 'unknown'"
   ]
  },
  {
   "cell_type": "code",
   "execution_count": 24,
   "metadata": {},
   "outputs": [
    {
     "data": {
      "text/html": [
       "<div>\n",
       "<style scoped>\n",
       "    .dataframe tbody tr th:only-of-type {\n",
       "        vertical-align: middle;\n",
       "    }\n",
       "\n",
       "    .dataframe tbody tr th {\n",
       "        vertical-align: top;\n",
       "    }\n",
       "\n",
       "    .dataframe thead th {\n",
       "        text-align: right;\n",
       "    }\n",
       "</style>\n",
       "<table border=\"1\" class=\"dataframe\">\n",
       "  <thead>\n",
       "    <tr style=\"text-align: right;\">\n",
       "      <th></th>\n",
       "      <th>Age</th>\n",
       "      <th>Occupation</th>\n",
       "      <th>Marital_Status</th>\n",
       "      <th>Education</th>\n",
       "      <th>Client_credit_in_default?</th>\n",
       "      <th>Housing_Loan</th>\n",
       "      <th>Personal_Loan</th>\n",
       "      <th>Contact_Form</th>\n",
       "      <th>Contact_Month</th>\n",
       "      <th>Contact_Day_of_Week</th>\n",
       "      <th>Duration_of_Contact</th>\n",
       "      <th>Num_Contact</th>\n",
       "      <th>Total_Num_Contact</th>\n",
       "      <th>Outcome_of_Campaign</th>\n",
       "      <th>Employment_Variation_Rate</th>\n",
       "      <th>Consumer_Price_Index</th>\n",
       "      <th>Consumer_Confidence_Index</th>\n",
       "      <th>Euribor_3M_Rate</th>\n",
       "      <th>Num_Employees</th>\n",
       "      <th>Subscribed?</th>\n",
       "    </tr>\n",
       "  </thead>\n",
       "  <tbody>\n",
       "    <tr>\n",
       "      <th>7</th>\n",
       "      <td>41</td>\n",
       "      <td>blue-collar</td>\n",
       "      <td>married</td>\n",
       "      <td>unknown</td>\n",
       "      <td>unknown</td>\n",
       "      <td>no</td>\n",
       "      <td>no</td>\n",
       "      <td>telephone</td>\n",
       "      <td>may</td>\n",
       "      <td>mon</td>\n",
       "      <td>217</td>\n",
       "      <td>1</td>\n",
       "      <td>0</td>\n",
       "      <td>nonexistent</td>\n",
       "      <td>1.1</td>\n",
       "      <td>93.994</td>\n",
       "      <td>-36.4</td>\n",
       "      <td>4.857</td>\n",
       "      <td>5191.0</td>\n",
       "      <td>no</td>\n",
       "    </tr>\n",
       "    <tr>\n",
       "      <th>10</th>\n",
       "      <td>41</td>\n",
       "      <td>blue-collar</td>\n",
       "      <td>married</td>\n",
       "      <td>unknown</td>\n",
       "      <td>unknown</td>\n",
       "      <td>no</td>\n",
       "      <td>no</td>\n",
       "      <td>telephone</td>\n",
       "      <td>may</td>\n",
       "      <td>mon</td>\n",
       "      <td>55</td>\n",
       "      <td>1</td>\n",
       "      <td>0</td>\n",
       "      <td>nonexistent</td>\n",
       "      <td>1.1</td>\n",
       "      <td>93.994</td>\n",
       "      <td>-36.4</td>\n",
       "      <td>4.857</td>\n",
       "      <td>5191.0</td>\n",
       "      <td>no</td>\n",
       "    </tr>\n",
       "    <tr>\n",
       "      <th>26</th>\n",
       "      <td>59</td>\n",
       "      <td>technician</td>\n",
       "      <td>married</td>\n",
       "      <td>unknown</td>\n",
       "      <td>no</td>\n",
       "      <td>yes</td>\n",
       "      <td>no</td>\n",
       "      <td>telephone</td>\n",
       "      <td>may</td>\n",
       "      <td>mon</td>\n",
       "      <td>93</td>\n",
       "      <td>1</td>\n",
       "      <td>0</td>\n",
       "      <td>nonexistent</td>\n",
       "      <td>1.1</td>\n",
       "      <td>93.994</td>\n",
       "      <td>-36.4</td>\n",
       "      <td>4.857</td>\n",
       "      <td>5191.0</td>\n",
       "      <td>no</td>\n",
       "    </tr>\n",
       "    <tr>\n",
       "      <th>30</th>\n",
       "      <td>46</td>\n",
       "      <td>admin.</td>\n",
       "      <td>married</td>\n",
       "      <td>unknown</td>\n",
       "      <td>no</td>\n",
       "      <td>no</td>\n",
       "      <td>no</td>\n",
       "      <td>telephone</td>\n",
       "      <td>may</td>\n",
       "      <td>mon</td>\n",
       "      <td>348</td>\n",
       "      <td>1</td>\n",
       "      <td>0</td>\n",
       "      <td>nonexistent</td>\n",
       "      <td>1.1</td>\n",
       "      <td>93.994</td>\n",
       "      <td>-36.4</td>\n",
       "      <td>4.857</td>\n",
       "      <td>5191.0</td>\n",
       "      <td>no</td>\n",
       "    </tr>\n",
       "    <tr>\n",
       "      <th>31</th>\n",
       "      <td>59</td>\n",
       "      <td>technician</td>\n",
       "      <td>married</td>\n",
       "      <td>unknown</td>\n",
       "      <td>no</td>\n",
       "      <td>yes</td>\n",
       "      <td>no</td>\n",
       "      <td>telephone</td>\n",
       "      <td>may</td>\n",
       "      <td>mon</td>\n",
       "      <td>386</td>\n",
       "      <td>1</td>\n",
       "      <td>0</td>\n",
       "      <td>nonexistent</td>\n",
       "      <td>1.1</td>\n",
       "      <td>93.994</td>\n",
       "      <td>-36.4</td>\n",
       "      <td>4.857</td>\n",
       "      <td>5191.0</td>\n",
       "      <td>no</td>\n",
       "    </tr>\n",
       "    <tr>\n",
       "      <th>...</th>\n",
       "      <td>...</td>\n",
       "      <td>...</td>\n",
       "      <td>...</td>\n",
       "      <td>...</td>\n",
       "      <td>...</td>\n",
       "      <td>...</td>\n",
       "      <td>...</td>\n",
       "      <td>...</td>\n",
       "      <td>...</td>\n",
       "      <td>...</td>\n",
       "      <td>...</td>\n",
       "      <td>...</td>\n",
       "      <td>...</td>\n",
       "      <td>...</td>\n",
       "      <td>...</td>\n",
       "      <td>...</td>\n",
       "      <td>...</td>\n",
       "      <td>...</td>\n",
       "      <td>...</td>\n",
       "      <td>...</td>\n",
       "    </tr>\n",
       "    <tr>\n",
       "      <th>41118</th>\n",
       "      <td>34</td>\n",
       "      <td>technician</td>\n",
       "      <td>married</td>\n",
       "      <td>unknown</td>\n",
       "      <td>no</td>\n",
       "      <td>yes</td>\n",
       "      <td>no</td>\n",
       "      <td>cellular</td>\n",
       "      <td>nov</td>\n",
       "      <td>tue</td>\n",
       "      <td>162</td>\n",
       "      <td>2</td>\n",
       "      <td>2</td>\n",
       "      <td>failure</td>\n",
       "      <td>-1.1</td>\n",
       "      <td>94.767</td>\n",
       "      <td>-50.8</td>\n",
       "      <td>1.046</td>\n",
       "      <td>4963.6</td>\n",
       "      <td>no</td>\n",
       "    </tr>\n",
       "    <tr>\n",
       "      <th>41120</th>\n",
       "      <td>60</td>\n",
       "      <td>admin.</td>\n",
       "      <td>married</td>\n",
       "      <td>unknown</td>\n",
       "      <td>no</td>\n",
       "      <td>no</td>\n",
       "      <td>no</td>\n",
       "      <td>cellular</td>\n",
       "      <td>nov</td>\n",
       "      <td>tue</td>\n",
       "      <td>333</td>\n",
       "      <td>2</td>\n",
       "      <td>0</td>\n",
       "      <td>nonexistent</td>\n",
       "      <td>-1.1</td>\n",
       "      <td>94.767</td>\n",
       "      <td>-50.8</td>\n",
       "      <td>1.046</td>\n",
       "      <td>4963.6</td>\n",
       "      <td>no</td>\n",
       "    </tr>\n",
       "    <tr>\n",
       "      <th>41122</th>\n",
       "      <td>34</td>\n",
       "      <td>technician</td>\n",
       "      <td>married</td>\n",
       "      <td>unknown</td>\n",
       "      <td>no</td>\n",
       "      <td>no</td>\n",
       "      <td>no</td>\n",
       "      <td>cellular</td>\n",
       "      <td>nov</td>\n",
       "      <td>tue</td>\n",
       "      <td>985</td>\n",
       "      <td>3</td>\n",
       "      <td>0</td>\n",
       "      <td>nonexistent</td>\n",
       "      <td>-1.1</td>\n",
       "      <td>94.767</td>\n",
       "      <td>-50.8</td>\n",
       "      <td>1.046</td>\n",
       "      <td>4963.6</td>\n",
       "      <td>yes</td>\n",
       "    </tr>\n",
       "    <tr>\n",
       "      <th>41135</th>\n",
       "      <td>54</td>\n",
       "      <td>technician</td>\n",
       "      <td>married</td>\n",
       "      <td>unknown</td>\n",
       "      <td>no</td>\n",
       "      <td>yes</td>\n",
       "      <td>no</td>\n",
       "      <td>cellular</td>\n",
       "      <td>nov</td>\n",
       "      <td>thu</td>\n",
       "      <td>222</td>\n",
       "      <td>1</td>\n",
       "      <td>1</td>\n",
       "      <td>failure</td>\n",
       "      <td>-1.1</td>\n",
       "      <td>94.767</td>\n",
       "      <td>-50.8</td>\n",
       "      <td>1.041</td>\n",
       "      <td>4963.6</td>\n",
       "      <td>no</td>\n",
       "    </tr>\n",
       "    <tr>\n",
       "      <th>41175</th>\n",
       "      <td>34</td>\n",
       "      <td>student</td>\n",
       "      <td>single</td>\n",
       "      <td>unknown</td>\n",
       "      <td>no</td>\n",
       "      <td>yes</td>\n",
       "      <td>no</td>\n",
       "      <td>cellular</td>\n",
       "      <td>nov</td>\n",
       "      <td>thu</td>\n",
       "      <td>180</td>\n",
       "      <td>1</td>\n",
       "      <td>2</td>\n",
       "      <td>failure</td>\n",
       "      <td>-1.1</td>\n",
       "      <td>94.767</td>\n",
       "      <td>-50.8</td>\n",
       "      <td>1.031</td>\n",
       "      <td>4963.6</td>\n",
       "      <td>no</td>\n",
       "    </tr>\n",
       "  </tbody>\n",
       "</table>\n",
       "<p>1731 rows × 20 columns</p>\n",
       "</div>"
      ],
      "text/plain": [
       "       Age   Occupation Marital_Status Education Client_credit_in_default?  \\\n",
       "7       41  blue-collar        married   unknown                   unknown   \n",
       "10      41  blue-collar        married   unknown                   unknown   \n",
       "26      59   technician        married   unknown                        no   \n",
       "30      46       admin.        married   unknown                        no   \n",
       "31      59   technician        married   unknown                        no   \n",
       "...    ...          ...            ...       ...                       ...   \n",
       "41118   34   technician        married   unknown                        no   \n",
       "41120   60       admin.        married   unknown                        no   \n",
       "41122   34   technician        married   unknown                        no   \n",
       "41135   54   technician        married   unknown                        no   \n",
       "41175   34      student         single   unknown                        no   \n",
       "\n",
       "      Housing_Loan Personal_Loan Contact_Form Contact_Month  \\\n",
       "7               no            no    telephone           may   \n",
       "10              no            no    telephone           may   \n",
       "26             yes            no    telephone           may   \n",
       "30              no            no    telephone           may   \n",
       "31             yes            no    telephone           may   \n",
       "...            ...           ...          ...           ...   \n",
       "41118          yes            no     cellular           nov   \n",
       "41120           no            no     cellular           nov   \n",
       "41122           no            no     cellular           nov   \n",
       "41135          yes            no     cellular           nov   \n",
       "41175          yes            no     cellular           nov   \n",
       "\n",
       "      Contact_Day_of_Week  Duration_of_Contact  Num_Contact  \\\n",
       "7                     mon                  217            1   \n",
       "10                    mon                   55            1   \n",
       "26                    mon                   93            1   \n",
       "30                    mon                  348            1   \n",
       "31                    mon                  386            1   \n",
       "...                   ...                  ...          ...   \n",
       "41118                 tue                  162            2   \n",
       "41120                 tue                  333            2   \n",
       "41122                 tue                  985            3   \n",
       "41135                 thu                  222            1   \n",
       "41175                 thu                  180            1   \n",
       "\n",
       "       Total_Num_Contact Outcome_of_Campaign  Employment_Variation_Rate  \\\n",
       "7                      0         nonexistent                        1.1   \n",
       "10                     0         nonexistent                        1.1   \n",
       "26                     0         nonexistent                        1.1   \n",
       "30                     0         nonexistent                        1.1   \n",
       "31                     0         nonexistent                        1.1   \n",
       "...                  ...                 ...                        ...   \n",
       "41118                  2             failure                       -1.1   \n",
       "41120                  0         nonexistent                       -1.1   \n",
       "41122                  0         nonexistent                       -1.1   \n",
       "41135                  1             failure                       -1.1   \n",
       "41175                  2             failure                       -1.1   \n",
       "\n",
       "       Consumer_Price_Index  Consumer_Confidence_Index  Euribor_3M_Rate  \\\n",
       "7                    93.994                      -36.4            4.857   \n",
       "10                   93.994                      -36.4            4.857   \n",
       "26                   93.994                      -36.4            4.857   \n",
       "30                   93.994                      -36.4            4.857   \n",
       "31                   93.994                      -36.4            4.857   \n",
       "...                     ...                        ...              ...   \n",
       "41118                94.767                      -50.8            1.046   \n",
       "41120                94.767                      -50.8            1.046   \n",
       "41122                94.767                      -50.8            1.046   \n",
       "41135                94.767                      -50.8            1.041   \n",
       "41175                94.767                      -50.8            1.031   \n",
       "\n",
       "       Num_Employees Subscribed?  \n",
       "7             5191.0          no  \n",
       "10            5191.0          no  \n",
       "26            5191.0          no  \n",
       "30            5191.0          no  \n",
       "31            5191.0          no  \n",
       "...              ...         ...  \n",
       "41118         4963.6          no  \n",
       "41120         4963.6          no  \n",
       "41122         4963.6         yes  \n",
       "41135         4963.6          no  \n",
       "41175         4963.6          no  \n",
       "\n",
       "[1731 rows x 20 columns]"
      ]
     },
     "execution_count": 24,
     "metadata": {},
     "output_type": "execute_result"
    }
   ],
   "source": [
    "filtered_Education = df[df['Education'] == 'unknown']\n",
    "filtered_Education"
   ]
  },
  {
   "cell_type": "code",
   "execution_count": 25,
   "metadata": {},
   "outputs": [
    {
     "data": {
      "text/plain": [
       "2499"
      ]
     },
     "execution_count": 25,
     "metadata": {},
     "output_type": "execute_result"
    }
   ],
   "source": [
    "#Yikes! That looks like a lot, so let's check how many are unknown to determine if this feature is even\n",
    "#helpful for our model.\n",
    "num_unknowns_Education = (filtered_Education == 'unknown').sum().sum()\n",
    "num_unknowns_Education"
   ]
  },
  {
   "cell_type": "markdown",
   "metadata": {},
   "source": [
    "Alright, 2,499 isn't too bad out of ~41,000 samples. One possible route is turning the education levels into numeric values and finding the average of the data, replacing each 'unknown' with the average value. But let's return to the context of the problem - we are trying to determine if a customer is likely to subscribe to a term deposit or not. If a customer's education is unknown, it could be for a variety of reasons - perhaps they wouldn't like to share too much personal information, or they believe that their education level is irrelevant to the financial services they would like. Either way, the lack of information might actually provide *more* insight into what the client prioritizes, or their spending habits."
   ]
  },
  {
   "cell_type": "code",
   "execution_count": 26,
   "metadata": {},
   "outputs": [
    {
     "name": "stdout",
     "output_type": "stream",
     "text": [
      "632\n",
      "111\n"
     ]
    }
   ],
   "source": [
    "#Ultimately, I'm going to keep unknown under the personal features - occupation, marital_status, and education. Let's\n",
    "#double check that there aren't too many unknowns in the occupation and marital_status features.\n",
    "filtered_Occupation = df[df['Occupation'] == 'unknown']\n",
    "num_unknowns_Occupation = (filtered_Occupation == 'unknown').sum().sum()\n",
    "print(num_unknowns_Occupation)\n",
    "\n",
    "filtered_Marital = df[df['Marital_Status'] == 'unknown']\n",
    "num_unknowns_Marital = (filtered_Marital == 'unknown').sum().sum()\n",
    "print(num_unknowns_Marital)"
   ]
  },
  {
   "cell_type": "markdown",
   "metadata": {},
   "source": [
    "Now it's time to take a closer look at the unknown values in the more technical data - whether a client's credit is in default, if they have a housing loan, and if they have a personal loan. These are all values that are key to determining if a client is likely to subscribe to a term deposit."
   ]
  },
  {
   "cell_type": "code",
   "execution_count": 27,
   "metadata": {},
   "outputs": [
    {
     "name": "stdout",
     "output_type": "stream",
     "text": [
      "9762\n",
      "2253\n",
      "2253\n"
     ]
    }
   ],
   "source": [
    "#First, lets take a look at the volume of unknowns\n",
    "filtered_Default = df[df['Client_credit_in_default?'] == 'unknown']\n",
    "num_unknowns_Default = (filtered_Default == 'unknown').sum().sum()\n",
    "print(num_unknowns_Default)\n",
    "\n",
    "filtered_Housing = df[df['Housing_Loan'] == 'unknown']\n",
    "num_unknowns_Housing = (filtered_Housing == 'unknown').sum().sum()\n",
    "print(num_unknowns_Housing)\n",
    "\n",
    "filtered_Personal = df[df['Personal_Loan'] == 'unknown']\n",
    "num_unknowns_Personal = (filtered_Personal == 'unknown').sum().sum()\n",
    "print(num_unknowns_Personal)"
   ]
  },
  {
   "cell_type": "markdown",
   "metadata": {},
   "source": [
    "Okay, that's not ideal. Given that these features are binary and I'm not willing to build an entire model to predict if someone's in credit default, I think it would be wiser to leave the values as unknown in the interest of time. While turning the \"yes\" and \"no\"s into 0s and 1s could be beneficial for finding an average, the classification should be binary - you can't have a customer that is 0.63 in credit default. They either are or they aren't. So, I've ultimately decided to leave in all the unknowns."
   ]
  },
  {
   "cell_type": "markdown",
   "metadata": {},
   "source": [
    "## One-Hot Encoding"
   ]
  },
  {
   "cell_type": "markdown",
   "metadata": {},
   "source": [
    "Before I one-hot encode all the other values, I want to maintain a consistent capitalization across the dataframe. Let's replace the object values with a capitalized version of themselves."
   ]
  },
  {
   "cell_type": "code",
   "execution_count": 28,
   "metadata": {},
   "outputs": [
    {
     "data": {
      "text/plain": [
       "array(['may', 'jun', 'jul', 'aug', 'oct', 'nov', 'dec', 'mar', 'apr',\n",
       "       'sep'], dtype=object)"
      ]
     },
     "execution_count": 28,
     "metadata": {},
     "output_type": "execute_result"
    }
   ],
   "source": [
    "df['Contact_Month'].unique()"
   ]
  },
  {
   "cell_type": "code",
   "execution_count": 29,
   "metadata": {},
   "outputs": [
    {
     "data": {
      "text/plain": [
       "array(['May', 'Jun', 'Jul', 'Aug', 'Oct', 'Nov', 'Dec', 'Mar', 'Apr',\n",
       "       'Sep'], dtype=object)"
      ]
     },
     "execution_count": 29,
     "metadata": {},
     "output_type": "execute_result"
    }
   ],
   "source": [
    "df['Contact_Month'] = df['Contact_Month'].str.capitalize()\n",
    "df['Contact_Month'].unique()"
   ]
  },
  {
   "cell_type": "code",
   "execution_count": 30,
   "metadata": {},
   "outputs": [],
   "source": [
    "df['Occupation'] = df['Occupation'].str.capitalize()\n",
    "df['Marital_Status'] = df['Marital_Status'].str.capitalize()\n",
    "df['Education'] = df['Education'].str.capitalize()\n",
    "df['Client_credit_in_default?'] = df['Client_credit_in_default?'].str.capitalize()\n",
    "df['Housing_Loan'] = df['Housing_Loan'].str.capitalize()\n",
    "df['Personal_Loan'] = df['Personal_Loan'].str.capitalize()\n",
    "df['Education'] = df['Education'].str.capitalize()\n",
    "df['Contact_Form'] = df['Contact_Form'].str.capitalize()\n",
    "df['Contact_Day_of_Week'] = df['Contact_Day_of_Week'].str.capitalize()\n",
    "df['Education'] = df['Education'].str.capitalize()\n",
    "df['Outcome_of_Campaign'] = df['Outcome_of_Campaign'].str.capitalize()\n",
    "df['Subscribed?'] = df['Subscribed?'].str.capitalize()"
   ]
  },
  {
   "cell_type": "code",
   "execution_count": 31,
   "metadata": {},
   "outputs": [
    {
     "data": {
      "text/html": [
       "<div>\n",
       "<style scoped>\n",
       "    .dataframe tbody tr th:only-of-type {\n",
       "        vertical-align: middle;\n",
       "    }\n",
       "\n",
       "    .dataframe tbody tr th {\n",
       "        vertical-align: top;\n",
       "    }\n",
       "\n",
       "    .dataframe thead th {\n",
       "        text-align: right;\n",
       "    }\n",
       "</style>\n",
       "<table border=\"1\" class=\"dataframe\">\n",
       "  <thead>\n",
       "    <tr style=\"text-align: right;\">\n",
       "      <th></th>\n",
       "      <th>Occupation__Admin.</th>\n",
       "      <th>Occupation__Blue-collar</th>\n",
       "      <th>Occupation__Entrepreneur</th>\n",
       "      <th>Occupation__Housemaid</th>\n",
       "      <th>Occupation__Management</th>\n",
       "      <th>Occupation__Retired</th>\n",
       "      <th>Occupation__Self-employed</th>\n",
       "      <th>Occupation__Services</th>\n",
       "      <th>Occupation__Student</th>\n",
       "      <th>Occupation__Technician</th>\n",
       "      <th>Occupation__Unemployed</th>\n",
       "      <th>Occupation__Unknown</th>\n",
       "    </tr>\n",
       "  </thead>\n",
       "  <tbody>\n",
       "    <tr>\n",
       "      <th>0</th>\n",
       "      <td>0</td>\n",
       "      <td>0</td>\n",
       "      <td>0</td>\n",
       "      <td>1</td>\n",
       "      <td>0</td>\n",
       "      <td>0</td>\n",
       "      <td>0</td>\n",
       "      <td>0</td>\n",
       "      <td>0</td>\n",
       "      <td>0</td>\n",
       "      <td>0</td>\n",
       "      <td>0</td>\n",
       "    </tr>\n",
       "    <tr>\n",
       "      <th>1</th>\n",
       "      <td>0</td>\n",
       "      <td>0</td>\n",
       "      <td>0</td>\n",
       "      <td>0</td>\n",
       "      <td>0</td>\n",
       "      <td>0</td>\n",
       "      <td>0</td>\n",
       "      <td>1</td>\n",
       "      <td>0</td>\n",
       "      <td>0</td>\n",
       "      <td>0</td>\n",
       "      <td>0</td>\n",
       "    </tr>\n",
       "    <tr>\n",
       "      <th>2</th>\n",
       "      <td>0</td>\n",
       "      <td>0</td>\n",
       "      <td>0</td>\n",
       "      <td>0</td>\n",
       "      <td>0</td>\n",
       "      <td>0</td>\n",
       "      <td>0</td>\n",
       "      <td>1</td>\n",
       "      <td>0</td>\n",
       "      <td>0</td>\n",
       "      <td>0</td>\n",
       "      <td>0</td>\n",
       "    </tr>\n",
       "    <tr>\n",
       "      <th>3</th>\n",
       "      <td>1</td>\n",
       "      <td>0</td>\n",
       "      <td>0</td>\n",
       "      <td>0</td>\n",
       "      <td>0</td>\n",
       "      <td>0</td>\n",
       "      <td>0</td>\n",
       "      <td>0</td>\n",
       "      <td>0</td>\n",
       "      <td>0</td>\n",
       "      <td>0</td>\n",
       "      <td>0</td>\n",
       "    </tr>\n",
       "    <tr>\n",
       "      <th>4</th>\n",
       "      <td>0</td>\n",
       "      <td>0</td>\n",
       "      <td>0</td>\n",
       "      <td>0</td>\n",
       "      <td>0</td>\n",
       "      <td>0</td>\n",
       "      <td>0</td>\n",
       "      <td>1</td>\n",
       "      <td>0</td>\n",
       "      <td>0</td>\n",
       "      <td>0</td>\n",
       "      <td>0</td>\n",
       "    </tr>\n",
       "    <tr>\n",
       "      <th>...</th>\n",
       "      <td>...</td>\n",
       "      <td>...</td>\n",
       "      <td>...</td>\n",
       "      <td>...</td>\n",
       "      <td>...</td>\n",
       "      <td>...</td>\n",
       "      <td>...</td>\n",
       "      <td>...</td>\n",
       "      <td>...</td>\n",
       "      <td>...</td>\n",
       "      <td>...</td>\n",
       "      <td>...</td>\n",
       "    </tr>\n",
       "    <tr>\n",
       "      <th>41183</th>\n",
       "      <td>0</td>\n",
       "      <td>0</td>\n",
       "      <td>0</td>\n",
       "      <td>0</td>\n",
       "      <td>0</td>\n",
       "      <td>1</td>\n",
       "      <td>0</td>\n",
       "      <td>0</td>\n",
       "      <td>0</td>\n",
       "      <td>0</td>\n",
       "      <td>0</td>\n",
       "      <td>0</td>\n",
       "    </tr>\n",
       "    <tr>\n",
       "      <th>41184</th>\n",
       "      <td>0</td>\n",
       "      <td>1</td>\n",
       "      <td>0</td>\n",
       "      <td>0</td>\n",
       "      <td>0</td>\n",
       "      <td>0</td>\n",
       "      <td>0</td>\n",
       "      <td>0</td>\n",
       "      <td>0</td>\n",
       "      <td>0</td>\n",
       "      <td>0</td>\n",
       "      <td>0</td>\n",
       "    </tr>\n",
       "    <tr>\n",
       "      <th>41185</th>\n",
       "      <td>0</td>\n",
       "      <td>0</td>\n",
       "      <td>0</td>\n",
       "      <td>0</td>\n",
       "      <td>0</td>\n",
       "      <td>1</td>\n",
       "      <td>0</td>\n",
       "      <td>0</td>\n",
       "      <td>0</td>\n",
       "      <td>0</td>\n",
       "      <td>0</td>\n",
       "      <td>0</td>\n",
       "    </tr>\n",
       "    <tr>\n",
       "      <th>41186</th>\n",
       "      <td>0</td>\n",
       "      <td>0</td>\n",
       "      <td>0</td>\n",
       "      <td>0</td>\n",
       "      <td>0</td>\n",
       "      <td>0</td>\n",
       "      <td>0</td>\n",
       "      <td>0</td>\n",
       "      <td>0</td>\n",
       "      <td>1</td>\n",
       "      <td>0</td>\n",
       "      <td>0</td>\n",
       "    </tr>\n",
       "    <tr>\n",
       "      <th>41187</th>\n",
       "      <td>0</td>\n",
       "      <td>0</td>\n",
       "      <td>0</td>\n",
       "      <td>0</td>\n",
       "      <td>0</td>\n",
       "      <td>1</td>\n",
       "      <td>0</td>\n",
       "      <td>0</td>\n",
       "      <td>0</td>\n",
       "      <td>0</td>\n",
       "      <td>0</td>\n",
       "      <td>0</td>\n",
       "    </tr>\n",
       "  </tbody>\n",
       "</table>\n",
       "<p>41188 rows × 12 columns</p>\n",
       "</div>"
      ],
      "text/plain": [
       "       Occupation__Admin.  Occupation__Blue-collar  Occupation__Entrepreneur  \\\n",
       "0                       0                        0                         0   \n",
       "1                       0                        0                         0   \n",
       "2                       0                        0                         0   \n",
       "3                       1                        0                         0   \n",
       "4                       0                        0                         0   \n",
       "...                   ...                      ...                       ...   \n",
       "41183                   0                        0                         0   \n",
       "41184                   0                        1                         0   \n",
       "41185                   0                        0                         0   \n",
       "41186                   0                        0                         0   \n",
       "41187                   0                        0                         0   \n",
       "\n",
       "       Occupation__Housemaid  Occupation__Management  Occupation__Retired  \\\n",
       "0                          1                       0                    0   \n",
       "1                          0                       0                    0   \n",
       "2                          0                       0                    0   \n",
       "3                          0                       0                    0   \n",
       "4                          0                       0                    0   \n",
       "...                      ...                     ...                  ...   \n",
       "41183                      0                       0                    1   \n",
       "41184                      0                       0                    0   \n",
       "41185                      0                       0                    1   \n",
       "41186                      0                       0                    0   \n",
       "41187                      0                       0                    1   \n",
       "\n",
       "       Occupation__Self-employed  Occupation__Services  Occupation__Student  \\\n",
       "0                              0                     0                    0   \n",
       "1                              0                     1                    0   \n",
       "2                              0                     1                    0   \n",
       "3                              0                     0                    0   \n",
       "4                              0                     1                    0   \n",
       "...                          ...                   ...                  ...   \n",
       "41183                          0                     0                    0   \n",
       "41184                          0                     0                    0   \n",
       "41185                          0                     0                    0   \n",
       "41186                          0                     0                    0   \n",
       "41187                          0                     0                    0   \n",
       "\n",
       "       Occupation__Technician  Occupation__Unemployed  Occupation__Unknown  \n",
       "0                           0                       0                    0  \n",
       "1                           0                       0                    0  \n",
       "2                           0                       0                    0  \n",
       "3                           0                       0                    0  \n",
       "4                           0                       0                    0  \n",
       "...                       ...                     ...                  ...  \n",
       "41183                       0                       0                    0  \n",
       "41184                       0                       0                    0  \n",
       "41185                       0                       0                    0  \n",
       "41186                       1                       0                    0  \n",
       "41187                       0                       0                    0  \n",
       "\n",
       "[41188 rows x 12 columns]"
      ]
     },
     "execution_count": 31,
     "metadata": {},
     "output_type": "execute_result"
    }
   ],
   "source": [
    "#Time for one-hot encoding.\n",
    "#Making new columns for the different answers for the Occupation feature\n",
    "df_Occupation = pd.get_dummies(df['Occupation'], prefix='Occupation_')\n",
    "df_Occupation"
   ]
  },
  {
   "cell_type": "code",
   "execution_count": 32,
   "metadata": {},
   "outputs": [
    {
     "data": {
      "text/plain": [
       "Index(['Age', 'Marital_Status', 'Education', 'Client_credit_in_default?',\n",
       "       'Housing_Loan', 'Personal_Loan', 'Contact_Form', 'Contact_Month',\n",
       "       'Contact_Day_of_Week', 'Duration_of_Contact', 'Num_Contact',\n",
       "       'Total_Num_Contact', 'Outcome_of_Campaign', 'Employment_Variation_Rate',\n",
       "       'Consumer_Price_Index', 'Consumer_Confidence_Index', 'Euribor_3M_Rate',\n",
       "       'Num_Employees', 'Subscribed?', 'Occupation__Admin.',\n",
       "       'Occupation__Blue-collar', 'Occupation__Entrepreneur',\n",
       "       'Occupation__Housemaid', 'Occupation__Management',\n",
       "       'Occupation__Retired', 'Occupation__Self-employed',\n",
       "       'Occupation__Services', 'Occupation__Student', 'Occupation__Technician',\n",
       "       'Occupation__Unemployed', 'Occupation__Unknown'],\n",
       "      dtype='object')"
      ]
     },
     "execution_count": 32,
     "metadata": {},
     "output_type": "execute_result"
    }
   ],
   "source": [
    "#now let's replace the original job column in the dataframe\n",
    "df = df.join(df_Occupation)\n",
    "df.drop(columns = 'Occupation', inplace=True)\n",
    "#checking...\n",
    "df.columns"
   ]
  },
  {
   "cell_type": "markdown",
   "metadata": {},
   "source": [
    "Worked great! Now, I'm going to do this with the rest of the object columns."
   ]
  },
  {
   "cell_type": "code",
   "execution_count": 33,
   "metadata": {},
   "outputs": [],
   "source": [
    "#marital column\n",
    "df_marital = pd.get_dummies(df['Marital_Status'], prefix='Marital_')\n",
    "df = df.join(df_marital)\n",
    "df.drop(columns = 'Marital_Status', inplace=True)\n",
    "\n",
    "#education column\n",
    "df_education = pd.get_dummies(df['Education'], prefix='Education_')\n",
    "df = df.join(df_education)\n",
    "df.drop(columns = 'Education', inplace=True)\n",
    "\n",
    "#default column\n",
    "df_default = pd.get_dummies(df['Client_credit_in_default?'], prefix='Default_')\n",
    "df = df.join(df_default)\n",
    "df.drop(columns = 'Client_credit_in_default?', inplace=True)\n",
    "\n",
    "#housing column\n",
    "df_housing = pd.get_dummies(df['Housing_Loan'], prefix='Housing_Loan_')\n",
    "df = df.join(df_housing)\n",
    "df.drop(columns = 'Housing_Loan', inplace=True)\n",
    "\n",
    "#loan column\n",
    "df_loan = pd.get_dummies(df['Personal_Loan'], prefix='Personal_Loan_')\n",
    "df = df.join(df_loan)\n",
    "df.drop(columns = 'Personal_Loan', inplace=True)\n",
    "\n",
    "#contact type column\n",
    "df_contact = pd.get_dummies(df['Contact_Form'], prefix='Contact_Form_')\n",
    "df = df.join(df_contact)\n",
    "df.drop(columns = 'Contact_Form', inplace=True)\n",
    "\n",
    "#month column\n",
    "df_month = pd.get_dummies(df['Contact_Month'])\n",
    "df = df.join(df_month)\n",
    "df.drop(columns = 'Contact_Month', inplace=True)\n",
    "\n",
    "#day_of_week column\n",
    "df_day_of_week = pd.get_dummies(df['Contact_Day_of_Week'])\n",
    "df = df.join(df_day_of_week)\n",
    "df.drop(columns = 'Contact_Day_of_Week', inplace=True)\n",
    "\n",
    "#poutcome column\n",
    "df_poutcome = pd.get_dummies(df['Outcome_of_Campaign'], prefix = 'Outcome_')\n",
    "df = df.join(df_poutcome)\n",
    "df.drop(columns = 'Outcome_of_Campaign', inplace=True)"
   ]
  },
  {
   "cell_type": "code",
   "execution_count": 34,
   "metadata": {},
   "outputs": [
    {
     "data": {
      "text/plain": [
       "Index(['Age', 'Duration_of_Contact', 'Num_Contact', 'Total_Num_Contact',\n",
       "       'Employment_Variation_Rate', 'Consumer_Price_Index',\n",
       "       'Consumer_Confidence_Index', 'Euribor_3M_Rate', 'Num_Employees',\n",
       "       'Subscribed?', 'Occupation__Admin.', 'Occupation__Blue-collar',\n",
       "       'Occupation__Entrepreneur', 'Occupation__Housemaid',\n",
       "       'Occupation__Management', 'Occupation__Retired',\n",
       "       'Occupation__Self-employed', 'Occupation__Services',\n",
       "       'Occupation__Student', 'Occupation__Technician',\n",
       "       'Occupation__Unemployed', 'Occupation__Unknown', 'Marital__Divorced',\n",
       "       'Marital__Married', 'Marital__Single', 'Marital__Unknown',\n",
       "       'Education__Basic.4y', 'Education__Basic.6y', 'Education__Basic.9y',\n",
       "       'Education__High.school', 'Education__Illiterate',\n",
       "       'Education__Professional.course', 'Education__University.degree',\n",
       "       'Education__Unknown', 'Default__No', 'Default__Unknown', 'Default__Yes',\n",
       "       'Housing_Loan__No', 'Housing_Loan__Unknown', 'Housing_Loan__Yes',\n",
       "       'Personal_Loan__No', 'Personal_Loan__Unknown', 'Personal_Loan__Yes',\n",
       "       'Contact_Form__Cellular', 'Contact_Form__Telephone', 'Apr', 'Aug',\n",
       "       'Dec', 'Jul', 'Jun', 'Mar', 'May', 'Nov', 'Oct', 'Sep', 'Fri', 'Mon',\n",
       "       'Thu', 'Tue', 'Wed', 'Outcome__Failure', 'Outcome__Nonexistent',\n",
       "       'Outcome__Success'],\n",
       "      dtype='object')"
      ]
     },
     "execution_count": 34,
     "metadata": {},
     "output_type": "execute_result"
    }
   ],
   "source": [
    "df.columns"
   ]
  },
  {
   "cell_type": "markdown",
   "metadata": {},
   "source": [
    "Note how I didn't complete one-hot encoding for binary columns like contact method and the label. For these columns, we'll just convert to 1s and 0s."
   ]
  },
  {
   "cell_type": "code",
   "execution_count": 35,
   "metadata": {},
   "outputs": [
    {
     "data": {
      "text/plain": [
       "array([0, 1])"
      ]
     },
     "execution_count": 35,
     "metadata": {},
     "output_type": "execute_result"
    }
   ],
   "source": [
    "replacement_dict = {'Yes': 1, 'No': 0}\n",
    "df['Subscribed?'] = df['Subscribed?'].replace(replacement_dict)\n",
    "df['Subscribed?'].unique()"
   ]
  },
  {
   "cell_type": "code",
   "execution_count": 36,
   "metadata": {},
   "outputs": [
    {
     "name": "stdout",
     "output_type": "stream",
     "text": [
      "Index(['Age', 'Duration_of_Contact', 'Num_Contact', 'Total_Num_Contact',\n",
      "       'Employment_Variation_Rate', 'Consumer_Price_Index',\n",
      "       'Consumer_Confidence_Index', 'Euribor_3M_Rate', 'Num_Employees',\n",
      "       'Subscribed?', 'Occupation__Admin.', 'Occupation__Blue-collar',\n",
      "       'Occupation__Entrepreneur', 'Occupation__Housemaid',\n",
      "       'Occupation__Management', 'Occupation__Retired',\n",
      "       'Occupation__Self-employed', 'Occupation__Services',\n",
      "       'Occupation__Student', 'Occupation__Technician',\n",
      "       'Occupation__Unemployed', 'Occupation__Unknown', 'Marital__Divorced',\n",
      "       'Marital__Married', 'Marital__Single', 'Marital__Unknown',\n",
      "       'Education__Basic.4y', 'Education__Basic.6y', 'Education__Basic.9y',\n",
      "       'Education__High.school', 'Education__Illiterate',\n",
      "       'Education__Professional.course', 'Education__University.degree',\n",
      "       'Education__Unknown', 'Default__No', 'Default__Unknown', 'Default__Yes',\n",
      "       'Housing_Loan__No', 'Housing_Loan__Unknown', 'Housing_Loan__Yes',\n",
      "       'Personal_Loan__No', 'Personal_Loan__Unknown', 'Personal_Loan__Yes',\n",
      "       'Contact_Form__Cellular', 'Contact_Form__Telephone', 'Apr', 'Aug',\n",
      "       'Dec', 'Jul', 'Jun', 'Mar', 'May', 'Nov', 'Oct', 'Sep', 'Fri', 'Mon',\n",
      "       'Thu', 'Tue', 'Wed', 'Outcome__Failure', 'Outcome__Nonexistent',\n",
      "       'Outcome__Success'],\n",
      "      dtype='object')\n"
     ]
    },
    {
     "data": {
      "text/plain": [
       "[dtype('int64'),\n",
       " dtype('int64'),\n",
       " dtype('int64'),\n",
       " dtype('int64'),\n",
       " dtype('float64'),\n",
       " dtype('float64'),\n",
       " dtype('float64'),\n",
       " dtype('float64'),\n",
       " dtype('float64'),\n",
       " dtype('int64'),\n",
       " dtype('uint8'),\n",
       " dtype('uint8'),\n",
       " dtype('uint8'),\n",
       " dtype('uint8'),\n",
       " dtype('uint8'),\n",
       " dtype('uint8'),\n",
       " dtype('uint8'),\n",
       " dtype('uint8'),\n",
       " dtype('uint8'),\n",
       " dtype('uint8'),\n",
       " dtype('uint8'),\n",
       " dtype('uint8'),\n",
       " dtype('uint8'),\n",
       " dtype('uint8'),\n",
       " dtype('uint8'),\n",
       " dtype('uint8'),\n",
       " dtype('uint8'),\n",
       " dtype('uint8'),\n",
       " dtype('uint8'),\n",
       " dtype('uint8'),\n",
       " dtype('uint8'),\n",
       " dtype('uint8'),\n",
       " dtype('uint8'),\n",
       " dtype('uint8'),\n",
       " dtype('uint8'),\n",
       " dtype('uint8'),\n",
       " dtype('uint8'),\n",
       " dtype('uint8'),\n",
       " dtype('uint8'),\n",
       " dtype('uint8'),\n",
       " dtype('uint8'),\n",
       " dtype('uint8'),\n",
       " dtype('uint8'),\n",
       " dtype('uint8'),\n",
       " dtype('uint8'),\n",
       " dtype('uint8'),\n",
       " dtype('uint8'),\n",
       " dtype('uint8'),\n",
       " dtype('uint8'),\n",
       " dtype('uint8'),\n",
       " dtype('uint8'),\n",
       " dtype('uint8'),\n",
       " dtype('uint8'),\n",
       " dtype('uint8'),\n",
       " dtype('uint8'),\n",
       " dtype('uint8'),\n",
       " dtype('uint8'),\n",
       " dtype('uint8'),\n",
       " dtype('uint8'),\n",
       " dtype('uint8'),\n",
       " dtype('uint8'),\n",
       " dtype('uint8'),\n",
       " dtype('uint8')]"
      ]
     },
     "execution_count": 36,
     "metadata": {},
     "output_type": "execute_result"
    }
   ],
   "source": [
    "#checking the column types\n",
    "col = df.columns\n",
    "col_types = df[col].dtypes\n",
    "print(col)\n",
    "list(col_types)"
   ]
  },
  {
   "cell_type": "markdown",
   "metadata": {},
   "source": [
    "Alright, everything's numerical now! Time to take a closer look into our outliers\n",
    "\n",
    "## Outliers"
   ]
  },
  {
   "cell_type": "code",
   "execution_count": 37,
   "metadata": {},
   "outputs": [],
   "source": [
    "import scipy.stats as stats"
   ]
  },
  {
   "cell_type": "markdown",
   "metadata": {},
   "source": [
    "Earlier, we found that the only column that had outliers we might remove was the Consumer_Confidence_Index column. Let's take another look at how many outliers we found, and where they were."
   ]
  },
  {
   "cell_type": "code",
   "execution_count": 38,
   "metadata": {},
   "outputs": [
    {
     "data": {
      "text/plain": [
       "<AxesSubplot: xlabel='Consumer_Confidence_Index'>"
      ]
     },
     "execution_count": 38,
     "metadata": {},
     "output_type": "execute_result"
    },
    {
     "data": {
      "image/png": "[encoded data removed]",
      "text/plain": [
       "<Figure size 640x480 with 1 Axes>"
      ]
     },
     "metadata": {},
     "output_type": "display_data"
    }
   ],
   "source": [
    "sns.boxplot(x = df['Consumer_Confidence_Index'])"
   ]
  },
  {
   "cell_type": "code",
   "execution_count": 39,
   "metadata": {},
   "outputs": [
    {
     "data": {
      "text/plain": [
       "714"
      ]
     },
     "execution_count": 39,
     "metadata": {},
     "output_type": "execute_result"
    }
   ],
   "source": [
    "filtered_df = df[df['Consumer_Confidence_Index'] > -30]\n",
    "count = filtered_df.shape[0]\n",
    "count"
   ]
  },
  {
   "cell_type": "code",
   "execution_count": 40,
   "metadata": {},
   "outputs": [],
   "source": [
    "df.drop(df[df['Consumer_Confidence_Index'] > -30].index, inplace=True)"
   ]
  },
  {
   "cell_type": "code",
   "execution_count": 41,
   "metadata": {},
   "outputs": [
    {
     "data": {
      "text/plain": [
       "0"
      ]
     },
     "execution_count": 41,
     "metadata": {},
     "output_type": "execute_result"
    }
   ],
   "source": [
    "filtered_df = df[df['Consumer_Confidence_Index'] > -30]\n",
    "count = filtered_df.shape[0]\n",
    "count"
   ]
  },
  {
   "cell_type": "markdown",
   "metadata": {},
   "source": [
    "Alright, all the outliers have removed, time to see how our model's performance is!"
   ]
  },
  {
   "cell_type": "markdown",
   "metadata": {},
   "source": [
    "Looking at the data right now, it looks like most columns that are numerical have very consistent numbers, and not many outliers (i.e. 75th percentile = max). For the columns that do seem to have pretty far out values, they are held under points that are pretty important - for instance, the Consumer_Confidence_Index would have a large impact on the model's predictability, as it shows how confident the client is that products from the bank like the term deposit would benefit them. So I'll keep these for now."
   ]
  },
  {
   "cell_type": "markdown",
   "metadata": {},
   "source": [
    "Now, we have a new feature list. None of the features were removed, but there were quite a few that required one-hot encoding in order to become interpretable to the model. The only notable aspect of the data was that there was a massive difference in the data points that are labeled \"no\" vs. \"yes\" if the client will subscribe to a term deposit or not. This will likely impact the accuracy of the models, so I'll assess performance using ROC and AUC.\n",
    "\n",
    "Before anything, I went through and cleaned up how the labels looked. Next, I checked for any missing values - through this process, I realized that for all the columns, maintaining the unknown values was more beneficial to the model, as a client that refuses to include such information probably would not want to subscribe to a term deposit. I utilized one-hot encoding to convert the object data type columns into numerical values the model could interpret. Additionally, I checked for any outliers, and didn't find any that were too wildly out of reach from the mean, and most that had max values that were different from the 75th percentile (or min values and 25th percentile) were ones where those values are vital to the model's predictability. Ultimately, I kept nearly everything.\n",
    "\n",
    "The first model I would like to try is a logistic regression model, since it will spit out a probability that a client would subscribe to a term deposit, which is especially helpful, and it's also simple and interpretable. I would like to compare the performance of the logistic regression model with a decision tree and a random forest, since both DTs and RFs can handle non-linear relationships."
   ]
  },
  {
   "cell_type": "markdown",
   "metadata": {},
   "source": [
    "## Part 5: Implement Your Project Plan\n",
    "\n",
    "<b>Task:</b> In the code cell below, import additional packages that you have used in this course that you will need to implement your project plan."
   ]
  },
  {
   "cell_type": "code",
   "execution_count": 42,
   "metadata": {},
   "outputs": [],
   "source": [
    "from sklearn.linear_model import LogisticRegression\n",
    "from sklearn.tree import DecisionTreeClassifier\n",
    "from sklearn.model_selection import train_test_split\n",
    "from sklearn.metrics import log_loss\n",
    "from sklearn.metrics import accuracy_score\n",
    "from sklearn.model_selection import GridSearchCV\n",
    "from sklearn.model_selection import cross_val_score\n",
    "from sklearn.metrics import roc_curve, auc, roc_auc_score\n",
    "from sklearn.ensemble import RandomForestClassifier"
   ]
  },
  {
   "cell_type": "markdown",
   "metadata": {},
   "source": [
    "<b>Task:</b> Use the rest of this notebook to carry out your project plan. \n",
    "\n",
    "You will:\n",
    "\n",
    "1. Prepare your data for your model.\n",
    "2. Fit your model to the training data and evaluate your model.\n",
    "3. Improve your model's performance by performing model selection and/or feature selection techniques to find best model for your problem.\n",
    "\n",
    "Add code cells below and populate the notebook with commentary, code, analyses, results, and figures as you see fit. "
   ]
  },
  {
   "cell_type": "markdown",
   "metadata": {},
   "source": [
    "## Logistic Regresssion Model"
   ]
  },
  {
   "cell_type": "code",
   "execution_count": 43,
   "metadata": {},
   "outputs": [],
   "source": [
    "y = df['Subscribed?']\n",
    "X = df.drop(columns = 'Subscribed?', axis=1)"
   ]
  },
  {
   "cell_type": "code",
   "execution_count": 44,
   "metadata": {},
   "outputs": [
    {
     "name": "stdout",
     "output_type": "stream",
     "text": [
      "Number of examples: 40474\n",
      "\n",
      "Number of Features: 62\n"
     ]
    }
   ],
   "source": [
    "X_train, X_test, y_train, y_test = train_test_split(X, y, test_size=0.10, random_state=1234)\n",
    "print(\"Number of examples: \" + str(X.shape[0]))\n",
    "print(\"\\nNumber of Features: \" + str(X.shape[1]))"
   ]
  },
  {
   "cell_type": "code",
   "execution_count": 45,
   "metadata": {},
   "outputs": [
    {
     "name": "stdout",
     "output_type": "stream",
     "text": [
      "List of Log Loss:  [0.19715177906916365, 0.19697915044375988, 0.19692012226649627, 0.19691091035718988, 0.19963650234968874]\n",
      "List of Accuracy Scores:  [0.9157608695652174, 0.9157608695652174, 0.9157608695652174, 0.9155138339920948, 0.9147727272727273]\n"
     ]
    }
   ],
   "source": [
    "c_vals = {0.01, 0.1, 1, 10, 100}\n",
    "acc_score_LR_list = []\n",
    "l_loss_list = []\n",
    "\n",
    "for c in c_vals:\n",
    "    model = LogisticRegression(C = c, max_iter=10000)\n",
    "    model.fit(X_train, y_train)\n",
    "    \n",
    "    probability_predictions = model.predict_proba(X_test)\n",
    "    \n",
    "    #df_print = pd.DataFrame(probability_predictions, columns = ['Class: False', 'Class: True'])\n",
    "    #print('Class Prediction Probabilities: \\n' + df_print[0:5].to_string(index=False))\n",
    "    \n",
    "    l_loss = log_loss(y_test, probability_predictions)\n",
    "    #print('Log loss: ' + str(l_loss))\n",
    "    l_loss_list.append(l_loss)\n",
    "    \n",
    "    class_label_predictions = model.predict(X_test)\n",
    "    \n",
    "    acc_score_LR = accuracy_score(y_test, class_label_predictions)\n",
    "    #print('Accuracy: ' + str(acc_score_LR))\n",
    "    acc_score_LR_list.append(acc_score_LR)\n",
    "print('List of Log Loss: ', l_loss_list)\n",
    "print('List of Accuracy Scores: ', acc_score_LR_list)"
   ]
  },
  {
   "cell_type": "code",
   "execution_count": 46,
   "metadata": {},
   "outputs": [
    {
     "data": {
      "image/png": "[encoded data removed]",
      "text/plain": [
       "<Figure size 1000x600 with 1 Axes>"
      ]
     },
     "metadata": {},
     "output_type": "display_data"
    }
   ],
   "source": [
    "plt.figure(figsize=(10, 6))\n",
    "plt.plot(acc_score_LR_list, l_loss_list, marker='o', linestyle='-', color='b')\n",
    "\n",
    "for i, c in enumerate(c_vals):\n",
    "    plt.text(acc_score_LR_list[i], l_loss_list[i], f'C={c}', fontsize=10, ha='right',\n",
    "             va='bottom', rotation = 0)\n",
    "\n",
    "plt.ylabel('Log Loss')\n",
    "plt.xlabel('Accuracy Score')\n",
    "plt.title('Log Loss vs. Accuracy Score for Different C Values')\n",
    "plt.grid(True)\n",
    "\n",
    "plt.show()"
   ]
  },
  {
   "cell_type": "markdown",
   "metadata": {},
   "source": [
    "Nice! Taking a closer look, it seems like a C value of 100 is ideal for our model - it has the highest accuracy score with the lowest loss. Now let's look into the max_iter value."
   ]
  },
  {
   "cell_type": "code",
   "execution_count": 47,
   "metadata": {},
   "outputs": [
    {
     "name": "stdout",
     "output_type": "stream",
     "text": [
      "List of Log Loss:  [0.19692012226649627, 0.19692012226649627, 0.19692012226649627, 0.19692012226649627]\n",
      "List of Accuracy Scores:  [0.9157608695652174, 0.9157608695652174, 0.9157608695652174, 0.9157608695652174]\n"
     ]
    }
   ],
   "source": [
    "iter_vals = {8000, 10000, 15000, 20000}\n",
    "acc_score_LR_list = []\n",
    "l_loss_list = []\n",
    "\n",
    "for iters in iter_vals:\n",
    "    model = LogisticRegression(C = 100, max_iter = iters)\n",
    "    model.fit(X_train, y_train)\n",
    "    \n",
    "    probability_predictions = model.predict_proba(X_test)\n",
    "    \n",
    "    #df_print = pd.DataFrame(probability_predictions, columns = ['Class: False', 'Class: True'])\n",
    "    #print('Class Prediction Probabilities: \\n' + df_print[0:5].to_string(index=False))\n",
    "    \n",
    "    l_loss = log_loss(y_test, probability_predictions)\n",
    "    #print('Log loss: ' + str(l_loss))\n",
    "    l_loss_list.append(l_loss)\n",
    "    \n",
    "    class_label_predictions = model.predict(X_test)\n",
    "    \n",
    "    acc_score_LR = accuracy_score(y_test, class_label_predictions)\n",
    "    #print('Accuracy: ' + str(acc_score_LR))\n",
    "    acc_score_LR_list.append(acc_score_LR)\n",
    "print('List of Log Loss: ', l_loss_list)\n",
    "print('List of Accuracy Scores: ', acc_score_LR_list)"
   ]
  },
  {
   "cell_type": "markdown",
   "metadata": {},
   "source": [
    "We won't need a graph for this one - looks like max_iter had no impact on either accuracy or loss. Perfect! Time to regularize using L1 just in case there was any inadvertent overfitting caused by the large max_iter."
   ]
  },
  {
   "cell_type": "code",
   "execution_count": 48,
   "metadata": {},
   "outputs": [
    {
     "name": "stdout",
     "output_type": "stream",
     "text": [
      "Loss: 0.19692012226649627\n",
      "Accuracy: 0.9157608695652174\n"
     ]
    }
   ],
   "source": [
    "model = LogisticRegression(penalty='l1', solver='liblinear', C = 100, max_iter = 8000)\n",
    "model.fit(X_train, y_train)\n",
    "y_pred = model.predict(X_test)\n",
    "acc_score_LR = accuracy_score(y_test, y_pred)\n",
    "l_loss = log_loss(y_test, probability_predictions)\n",
    "print('Loss:', l_loss)\n",
    "print('Accuracy:', acc_score_LR)"
   ]
  },
  {
   "cell_type": "markdown",
   "metadata": {},
   "source": [
    "Looks like conducting L1 regularization didn't do much to help, so good news - the model isn't very overfitted! Let's take a look at the ROC/AUC curves."
   ]
  },
  {
   "cell_type": "code",
   "execution_count": 49,
   "metadata": {},
   "outputs": [],
   "source": [
    "y_pred_proba = model.predict_proba(X_test)[:, 1]"
   ]
  },
  {
   "cell_type": "code",
   "execution_count": 50,
   "metadata": {},
   "outputs": [
    {
     "name": "stdout",
     "output_type": "stream",
     "text": [
      "ROC AUC Score: 0.9401402816300405\n"
     ]
    }
   ],
   "source": [
    "# Computing ROC curve\n",
    "fpr, tpr, thresholds = roc_curve(y_test, y_pred_proba)\n",
    "\n",
    "# Computing AUC\n",
    "roc_auc_LR = auc(fpr, tpr)\n",
    "print('ROC AUC Score:', roc_auc_LR)"
   ]
  },
  {
   "cell_type": "code",
   "execution_count": 51,
   "metadata": {},
   "outputs": [
    {
     "name": "stdout",
     "output_type": "stream",
     "text": [
      "Plotting ROC Curve...\n"
     ]
    },
    {
     "data": {
      "image/png": "[encoded data removed]",
      "text/plain": [
       "<Figure size 640x480 with 1 Axes>"
      ]
     },
     "metadata": {},
     "output_type": "display_data"
    }
   ],
   "source": [
    "print('Plotting ROC Curve...')\n",
    "\n",
    "fig = plt.figure()\n",
    "ax = fig.add_subplot(111)\n",
    "\n",
    "sns.lineplot(x = fpr, y = tpr, color = 'b', marker = 'o')\n",
    "\n",
    "plt.title(\"Receiver operating characteristic (ROC) curve\")\n",
    "plt.xlabel(\"False positive rate\")\n",
    "plt.ylabel(\"True positive rate\")\n",
    "plt.legend(['ROC curve (area = 0.9403)'])\n",
    "plt.show()"
   ]
  },
  {
   "cell_type": "markdown",
   "metadata": {},
   "source": [
    "The ROC curve looks great! Our Logistic Regression Model is proving to be a very good one."
   ]
  },
  {
   "cell_type": "code",
   "execution_count": 52,
   "metadata": {},
   "outputs": [
    {
     "name": "stdout",
     "output_type": "stream",
     "text": [
      "Logistic Regression Model Performance:\n",
      "Accuracy Score:  0.91576\n",
      "Log Loss 0.19692\n",
      "AUC 0.94014\n"
     ]
    }
   ],
   "source": [
    "print('Logistic Regression Model Performance:')\n",
    "print('Accuracy Score: ', round(max(acc_score_LR_list), 5))\n",
    "print('Log Loss', round(min(l_loss_list), 5))\n",
    "print('AUC', round(roc_auc_LR, 5))"
   ]
  },
  {
   "cell_type": "markdown",
   "metadata": {},
   "source": [
    "## Decision Tree"
   ]
  },
  {
   "cell_type": "markdown",
   "metadata": {},
   "source": [
    "Time to make the Decision Tree model! For this one, we're going to run a Grid Search to determine the best estimator for both max_depth and min_samples_leaf."
   ]
  },
  {
   "cell_type": "code",
   "execution_count": 53,
   "metadata": {},
   "outputs": [
    {
     "data": {
      "text/plain": [
       "{'max_depth': [4, 8, 16, 32],\n",
       " 'min_samples_leaf': [25, 50, 100],\n",
       " 'min_samples_split': [2, 3, 4, 5, 6, 7, 8, 9]}"
      ]
     },
     "execution_count": 53,
     "metadata": {},
     "output_type": "execute_result"
    }
   ],
   "source": [
    "md = [2**n for n in range(2,6)]\n",
    "msl = [25*2**n for n in range(0,3)]\n",
    "mss = [n for n in range(2,10)]\n",
    "param_grid={'max_depth':md, 'min_samples_leaf':msl, 'min_samples_split': mss}\n",
    "\n",
    "param_grid"
   ]
  },
  {
   "cell_type": "code",
   "execution_count": 54,
   "metadata": {},
   "outputs": [
    {
     "name": "stdout",
     "output_type": "stream",
     "text": [
      "Running Grid Search...\n",
      "Done\n"
     ]
    }
   ],
   "source": [
    "print('Running Grid Search...')\n",
    "\n",
    "model = DecisionTreeClassifier()\n",
    "grid = GridSearchCV(model, param_grid, cv=5)\n",
    "grid_search = grid.fit(X_train, y_train)\n",
    "\n",
    "print('Done')"
   ]
  },
  {
   "cell_type": "code",
   "execution_count": 55,
   "metadata": {},
   "outputs": [
    {
     "name": "stdout",
     "output_type": "stream",
     "text": [
      "Best value for max depth: 8\n",
      "Best value for the minimum number of samples required to be at a leaf node: 50\n",
      "Best value for the minimum number of samples required to split an internal node: 2\n",
      "Accuracy score: 0.9164882397791498\n"
     ]
    }
   ],
   "source": [
    "best_md = grid_search.best_estimator_.max_depth\n",
    "best_msl = grid_search.best_estimator_.min_samples_leaf\n",
    "best_mss = grid_search.best_estimator_.min_samples_split\n",
    "\n",
    "acc_score_DT = grid_search.best_score_\n",
    "\n",
    "print('Best value for max depth: {0}'.format(best_md))\n",
    "print('Best value for the minimum number of samples required to be at a leaf node: {0}'\n",
    "      .format(best_msl))\n",
    "print('Best value for the minimum number of samples required to split an internal node: {0}'\n",
    "      .format(best_mss))\n",
    "\n",
    "print('Accuracy score: {0}'.format(grid_search.best_score_))"
   ]
  },
  {
   "cell_type": "markdown",
   "metadata": {},
   "source": [
    "I want to double check the model's stability using cross-validation, so let's check it out below:"
   ]
  },
  {
   "cell_type": "code",
   "execution_count": 56,
   "metadata": {},
   "outputs": [],
   "source": [
    "model = DecisionTreeClassifier(max_depth = 8, min_samples_leaf = 50, min_samples_split = 2)\n",
    "model.fit(X_train, y_train)\n",
    "y_pred_proba = model.predict_proba(X_test)[:, 1]"
   ]
  },
  {
   "cell_type": "code",
   "execution_count": 57,
   "metadata": {},
   "outputs": [
    {
     "name": "stdout",
     "output_type": "stream",
     "text": [
      "ROC AUC Score: 0.9407330432706471\n"
     ]
    }
   ],
   "source": [
    "# Computing ROC curve\n",
    "fpr, tpr, thresholds = roc_curve(y_test, y_pred_proba)\n",
    "\n",
    "# Computing AUC\n",
    "roc_auc_DT = auc(fpr, tpr)\n",
    "print('ROC AUC Score:', roc_auc_DT)"
   ]
  },
  {
   "cell_type": "code",
   "execution_count": 58,
   "metadata": {},
   "outputs": [
    {
     "name": "stdout",
     "output_type": "stream",
     "text": [
      "Plotting ROC Curve...\n"
     ]
    },
    {
     "data": {
      "image/png": "[encoded data removed]",
      "text/plain": [
       "<Figure size 640x480 with 1 Axes>"
      ]
     },
     "metadata": {},
     "output_type": "display_data"
    }
   ],
   "source": [
    "print('Plotting ROC Curve...')\n",
    "\n",
    "fig = plt.figure()\n",
    "ax = fig.add_subplot(111)\n",
    "\n",
    "\n",
    "sns.lineplot(x = fpr, y = tpr, color = 'b', marker = 'o')\n",
    "\n",
    "plt.title(\"Receiver operating characteristic (ROC) curve\")\n",
    "plt.xlabel(\"False positive rate\")\n",
    "plt.ylabel(\"True positive rate\")\n",
    "plt.legend(['ROC curve (area = 0.9407)'])\n",
    "plt.show()"
   ]
  },
  {
   "cell_type": "markdown",
   "metadata": {},
   "source": [
    "Grabbing the accuracy score for the summary:"
   ]
  },
  {
   "cell_type": "code",
   "execution_count": 59,
   "metadata": {},
   "outputs": [],
   "source": [
    "y_pred = model.predict(X_test)\n",
    "acc_score_DT = accuracy_score(y_test, y_pred)"
   ]
  },
  {
   "cell_type": "code",
   "execution_count": 60,
   "metadata": {},
   "outputs": [
    {
     "name": "stdout",
     "output_type": "stream",
     "text": [
      "Decision Tree Model Performance:\n",
      "Accuracy Score:  0.91354\n",
      "AUC 0.94073\n"
     ]
    }
   ],
   "source": [
    "print('Decision Tree Model Performance:')\n",
    "print('Accuracy Score: ', round(acc_score_DT, 5))\n",
    "print('AUC', round(roc_auc_DT, 5))"
   ]
  },
  {
   "cell_type": "markdown",
   "metadata": {},
   "source": [
    "## Random Forest Model"
   ]
  },
  {
   "cell_type": "code",
   "execution_count": 61,
   "metadata": {},
   "outputs": [
    {
     "name": "stdout",
     "output_type": "stream",
     "text": [
      "Begin Random Forest Implementation...\n",
      "End\n"
     ]
    }
   ],
   "source": [
    "print('Begin Random Forest Implementation...')\n",
    "model_RF = RandomForestClassifier(criterion='entropy', n_estimators=20)\n",
    "\n",
    "model_RF.fit(X_train, y_train)\n",
    "\n",
    "model_RF_preds = model_RF.predict_proba(X_test)\n",
    "RF_20_predictions = list(model_RF_preds[:, -1])\n",
    "\n",
    "model_RF_100 = RandomForestClassifier(criterion='entropy', n_estimators=100)\n",
    "\n",
    "# 5. Fit the model to the training data \n",
    "model_RF_100.fit(X_train, y_train)\n",
    "\n",
    "# 6. Make predictions on the test data using the predict_proba() method and \n",
    "# assign the result to a list named 'rf_100_predictions' \n",
    "model_RF_100_preds = model_RF_100.predict_proba(X_test)\n",
    "RF_100_predictions = list(model_RF_100_preds[:, -1])\n",
    "\n",
    "print('End')"
   ]
  },
  {
   "cell_type": "code",
   "execution_count": 62,
   "metadata": {},
   "outputs": [
    {
     "name": "stdout",
     "output_type": "stream",
     "text": [
      "Computing ROC Curve...\n",
      "End\n"
     ]
    }
   ],
   "source": [
    "print('Computing ROC Curve...')\n",
    "\n",
    "# Use roc_curve to record fpr and tpr for rf_20_model\n",
    "fpr_20, tpr_20, thresholds_20 = roc_curve(y_test, RF_20_predictions)\n",
    "\n",
    "# Use roc_curve to record fpr and tpr for rf_100_model\n",
    "fpr_100, tpr_100, thresholds_100 = roc_curve(y_test, RF_100_predictions)\n",
    "\n",
    "print('End')"
   ]
  },
  {
   "cell_type": "code",
   "execution_count": 63,
   "metadata": {},
   "outputs": [
    {
     "name": "stdout",
     "output_type": "stream",
     "text": [
      "Plotting ROC Curve...\n"
     ]
    },
    {
     "data": {
      "image/png": "[encoded data removed]",
      "text/plain": [
       "<Figure size 640x480 with 1 Axes>"
      ]
     },
     "metadata": {},
     "output_type": "display_data"
    }
   ],
   "source": [
    "print('Plotting ROC Curve...')\n",
    "\n",
    "fig = plt.figure()\n",
    "ax = fig.add_subplot(111)\n",
    "\n",
    "\n",
    "sns.lineplot(x = fpr_20, y = tpr_20, marker = 'o')\n",
    "sns.lineplot(x = fpr_100, y = tpr_100, marker = 'o')\n",
    "\n",
    "plt.title(\"Receiver operating characteristic (ROC) curve\")\n",
    "plt.xlabel(\"False positive rate\")\n",
    "plt.ylabel(\"True positive rate\")\n",
    "plt.legend(['RF with 20 estimators', 'RF with 100 estimators'])\n",
    "plt.show()"
   ]
  },
  {
   "cell_type": "code",
   "execution_count": 64,
   "metadata": {},
   "outputs": [
    {
     "name": "stdout",
     "output_type": "stream",
     "text": [
      "AUC of the RF model with 20 estimators is 0.928\n",
      "AUC of the RF model with 100 estimators is 0.942\n"
     ]
    }
   ],
   "source": [
    "# AUC for RF_20_model\n",
    "roc_auc_RF_20 = auc(fpr_20, tpr_20)\n",
    "print(\"AUC of the RF model with 20 estimators is {:.3f}\".format(roc_auc_RF_20))\n",
    "\n",
    "# AUC for RF_100_model\n",
    "roc_auc_RF_100 = auc(fpr_100, tpr_100)\n",
    "print(\"AUC of the RF model with 100 estimators is {:.3f}\".format(roc_auc_RF_100))"
   ]
  },
  {
   "cell_type": "markdown",
   "metadata": {},
   "source": [
    "Looks like the AUC is slightly bigger with the random forest model that has 100 estimators. Let's get the acucracy score as well."
   ]
  },
  {
   "cell_type": "code",
   "execution_count": 65,
   "metadata": {},
   "outputs": [],
   "source": [
    "y_pred = model_RF_100.predict(X_test)\n",
    "acc_score_RF = accuracy_score(y_test, y_pred)"
   ]
  },
  {
   "cell_type": "code",
   "execution_count": 66,
   "metadata": {},
   "outputs": [
    {
     "name": "stdout",
     "output_type": "stream",
     "text": [
      "Random Forest Model Performance:\n",
      "Accuracy Score:  0.9128\n",
      "AUC 0.942\n"
     ]
    }
   ],
   "source": [
    "print('Random Forest Model Performance:')\n",
    "print('Accuracy Score: ', round(acc_score_RF, 5))\n",
    "print('AUC', round(roc_auc_RF_100, 5))"
   ]
  },
  {
   "cell_type": "code",
   "execution_count": 79,
   "metadata": {},
   "outputs": [
    {
     "data": {
      "image/png": "[encoded data removed]",
      "text/plain": [
       "<Figure size 640x480 with 1 Axes>"
      ]
     },
     "metadata": {},
     "output_type": "display_data"
    }
   ],
   "source": [
    "accuracy_scores = [acc_score_LR, acc_score_DT, acc_score_RF]\n",
    "aucs = [roc_auc_LR, roc_auc_DT, roc_auc_RF_100]\n",
    "size = np.arange(3)\n",
    "width = 0.35\n",
    "\n",
    "plt.bar(size, accuracy_scores, width, color = 'green', label = 'Accuracy')\n",
    "\n",
    "plt.bar(size + width, aucs, width, color = 'blue', label = 'AUC')\n",
    "\n",
    "labels = ['LR', 'DT', 'RF']\n",
    "plt.xticks(size + width/2, labels)\n",
    "\n",
    "plt.xlabel(\"Models\")\n",
    "plt.ylabel(\"Accuracy/AUC\")\n",
    "\n",
    "plt.ylim([0,1])\n",
    "plt.title('Model Performance')\n",
    "plt.legend(loc = 'lower right', ncol = 2)\n",
    "plt.show()"
   ]
  },
  {
   "cell_type": "markdown",
   "metadata": {},
   "source": [
    "Looks like the models all did fantastic! It seems that in this case, no model was particularly better than the other in terms of performance. Looking back on the time and effort I needed to put into each model, I think decision trees would be the most appropriate - it was simple, took little time to load, and it was easy to better understand the model's performance through the ROC curve! On the other hand, while logistic regression was well-suited for the problem, the process of determining the best c was a little hectic, and took quite a while to figure out. In the interest of time, I would avoid the logistic regression model. Finally, while random forest proved to perform very well, the difference between tis performance and the performance of logistic regression as decision trees wasn't significant enough to reason the pursuit of the model.\n",
    "\n",
    "Ultimately, the models performed great in predicting if a customer would subscribe to a term deposit. For those few false positives, the bank could likely manage to afford a handful of extra calls, or may even be able to anticipate customers may need more persuasion. Overall, the analysis and performance of each model proved to be a helpful journey."
   ]
  },
  {
   "cell_type": "code",
   "execution_count": null,
   "metadata": {},
   "outputs": [],
   "source": []
  }
 ],
 "metadata": {
  "kernelspec": {
   "display_name": "Python 3 (ipykernel)",
   "language": "python",
   "name": "python3"
  },
  "language_info": {
   "codemirror_mode": {
    "name": "ipython",
    "version": 3
   },
   "file_extension": ".py",
   "mimetype": "text/x-python",
   "name": "python",
   "nbconvert_exporter": "python",
   "pygments_lexer": "ipython3",
   "version": "3.9.19"
  },
  "toc": {
   "base_numbering": 1,
   "nav_menu": {},
   "number_sections": false,
   "sideBar": true,
   "skip_h1_title": false,
   "title_cell": "Table of Contents",
   "title_sidebar": "Contents",
   "toc_cell": false,
   "toc_position": {},
   "toc_section_display": true,
   "toc_window_display": false
  },
  "varInspector": {
   "cols": {
    "lenName": 16,
    "lenType": 16,
    "lenVar": 40
   },
   "kernels_config": {
    "python": {
     "delete_cmd_postfix": "",
     "delete_cmd_prefix": "del ",
     "library": "var_list.py",
     "varRefreshCmd": "print(var_dic_list())"
    },
    "r": {
     "delete_cmd_postfix": ") ",
     "delete_cmd_prefix": "rm(",
     "library": "var_list.r",
     "varRefreshCmd": "cat(var_dic_list()) "
    }
   },
   "types_to_exclude": [
    "module",
    "function",
    "builtin_function_or_method",
    "instance",
    "_Feature"
   ],
   "window_display": false
  }
 },
 "nbformat": 4,
 "nbformat_minor": 4
}
